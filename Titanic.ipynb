{
 "cells": [
  {
   "cell_type": "markdown",
   "metadata": {},
   "source": [
    "# MNIST - Classification"
   ]
  },
  {
   "cell_type": "markdown",
   "metadata": {
    "ExecuteTime": {
     "end_time": "2020-10-21T13:53:16.197908Z",
     "start_time": "2020-10-21T13:53:16.170625Z"
    }
   },
   "source": [
    "<h1 align=\"center\">- $\\infty$ -</h1> "
   ]
  },
  {
   "cell_type": "code",
   "execution_count": 1,
   "metadata": {
    "ExecuteTime": {
     "end_time": "2020-10-26T19:39:00.014354Z",
     "start_time": "2020-10-26T19:38:57.414032Z"
    }
   },
   "outputs": [],
   "source": [
    "# Common imports\n",
    "import numpy as np\n",
    "import os\n",
    "import pandas as pd\n",
    "\n",
    "# To plot pretty figures\n",
    "%matplotlib inline\n",
    "import matplotlib as mpl\n",
    "import matplotlib.pyplot as plt\n",
    "import seaborn as sns"
   ]
  },
  {
   "cell_type": "code",
   "execution_count": 2,
   "metadata": {
    "ExecuteTime": {
     "end_time": "2020-10-26T19:39:00.025290Z",
     "start_time": "2020-10-26T19:39:00.016714Z"
    }
   },
   "outputs": [],
   "source": [
    "os.chdir(\"/Users/kaya/Desktop/Data Science Path/AInteresting/Titanic\")"
   ]
  },
  {
   "cell_type": "code",
   "execution_count": 332,
   "metadata": {
    "ExecuteTime": {
     "end_time": "2020-10-27T15:23:52.131212Z",
     "start_time": "2020-10-27T15:23:52.106404Z"
    }
   },
   "outputs": [],
   "source": [
    "train = pd.read_csv(\"train.csv\")\n",
    "test = pd.read_csv(\"test.csv\")"
   ]
  },
  {
   "cell_type": "code",
   "execution_count": 4,
   "metadata": {
    "ExecuteTime": {
     "end_time": "2020-10-26T19:39:00.111385Z",
     "start_time": "2020-10-26T19:39:00.079028Z"
    }
   },
   "outputs": [
    {
     "data": {
      "text/html": [
       "<div>\n",
       "<style scoped>\n",
       "    .dataframe tbody tr th:only-of-type {\n",
       "        vertical-align: middle;\n",
       "    }\n",
       "\n",
       "    .dataframe tbody tr th {\n",
       "        vertical-align: top;\n",
       "    }\n",
       "\n",
       "    .dataframe thead th {\n",
       "        text-align: right;\n",
       "    }\n",
       "</style>\n",
       "<table border=\"1\" class=\"dataframe\">\n",
       "  <thead>\n",
       "    <tr style=\"text-align: right;\">\n",
       "      <th></th>\n",
       "      <th>PassengerId</th>\n",
       "      <th>Survived</th>\n",
       "      <th>Pclass</th>\n",
       "      <th>Name</th>\n",
       "      <th>Sex</th>\n",
       "      <th>Age</th>\n",
       "      <th>SibSp</th>\n",
       "      <th>Parch</th>\n",
       "      <th>Ticket</th>\n",
       "      <th>Fare</th>\n",
       "      <th>Cabin</th>\n",
       "      <th>Embarked</th>\n",
       "    </tr>\n",
       "  </thead>\n",
       "  <tbody>\n",
       "    <tr>\n",
       "      <td>0</td>\n",
       "      <td>1</td>\n",
       "      <td>0</td>\n",
       "      <td>3</td>\n",
       "      <td>Braund, Mr. Owen Harris</td>\n",
       "      <td>male</td>\n",
       "      <td>22.0</td>\n",
       "      <td>1</td>\n",
       "      <td>0</td>\n",
       "      <td>A/5 21171</td>\n",
       "      <td>7.2500</td>\n",
       "      <td>NaN</td>\n",
       "      <td>S</td>\n",
       "    </tr>\n",
       "    <tr>\n",
       "      <td>1</td>\n",
       "      <td>2</td>\n",
       "      <td>1</td>\n",
       "      <td>1</td>\n",
       "      <td>Cumings, Mrs. John Bradley (Florence Briggs Th...</td>\n",
       "      <td>female</td>\n",
       "      <td>38.0</td>\n",
       "      <td>1</td>\n",
       "      <td>0</td>\n",
       "      <td>PC 17599</td>\n",
       "      <td>71.2833</td>\n",
       "      <td>C85</td>\n",
       "      <td>C</td>\n",
       "    </tr>\n",
       "    <tr>\n",
       "      <td>2</td>\n",
       "      <td>3</td>\n",
       "      <td>1</td>\n",
       "      <td>3</td>\n",
       "      <td>Heikkinen, Miss. Laina</td>\n",
       "      <td>female</td>\n",
       "      <td>26.0</td>\n",
       "      <td>0</td>\n",
       "      <td>0</td>\n",
       "      <td>STON/O2. 3101282</td>\n",
       "      <td>7.9250</td>\n",
       "      <td>NaN</td>\n",
       "      <td>S</td>\n",
       "    </tr>\n",
       "    <tr>\n",
       "      <td>3</td>\n",
       "      <td>4</td>\n",
       "      <td>1</td>\n",
       "      <td>1</td>\n",
       "      <td>Futrelle, Mrs. Jacques Heath (Lily May Peel)</td>\n",
       "      <td>female</td>\n",
       "      <td>35.0</td>\n",
       "      <td>1</td>\n",
       "      <td>0</td>\n",
       "      <td>113803</td>\n",
       "      <td>53.1000</td>\n",
       "      <td>C123</td>\n",
       "      <td>S</td>\n",
       "    </tr>\n",
       "    <tr>\n",
       "      <td>4</td>\n",
       "      <td>5</td>\n",
       "      <td>0</td>\n",
       "      <td>3</td>\n",
       "      <td>Allen, Mr. William Henry</td>\n",
       "      <td>male</td>\n",
       "      <td>35.0</td>\n",
       "      <td>0</td>\n",
       "      <td>0</td>\n",
       "      <td>373450</td>\n",
       "      <td>8.0500</td>\n",
       "      <td>NaN</td>\n",
       "      <td>S</td>\n",
       "    </tr>\n",
       "  </tbody>\n",
       "</table>\n",
       "</div>"
      ],
      "text/plain": [
       "   PassengerId  Survived  Pclass  \\\n",
       "0            1         0       3   \n",
       "1            2         1       1   \n",
       "2            3         1       3   \n",
       "3            4         1       1   \n",
       "4            5         0       3   \n",
       "\n",
       "                                                Name     Sex   Age  SibSp  \\\n",
       "0                            Braund, Mr. Owen Harris    male  22.0      1   \n",
       "1  Cumings, Mrs. John Bradley (Florence Briggs Th...  female  38.0      1   \n",
       "2                             Heikkinen, Miss. Laina  female  26.0      0   \n",
       "3       Futrelle, Mrs. Jacques Heath (Lily May Peel)  female  35.0      1   \n",
       "4                           Allen, Mr. William Henry    male  35.0      0   \n",
       "\n",
       "   Parch            Ticket     Fare Cabin Embarked  \n",
       "0      0         A/5 21171   7.2500   NaN        S  \n",
       "1      0          PC 17599  71.2833   C85        C  \n",
       "2      0  STON/O2. 3101282   7.9250   NaN        S  \n",
       "3      0            113803  53.1000  C123        S  \n",
       "4      0            373450   8.0500   NaN        S  "
      ]
     },
     "execution_count": 4,
     "metadata": {},
     "output_type": "execute_result"
    }
   ],
   "source": [
    "train.head()"
   ]
  },
  {
   "cell_type": "code",
   "execution_count": 5,
   "metadata": {
    "ExecuteTime": {
     "end_time": "2020-10-26T19:39:00.165109Z",
     "start_time": "2020-10-26T19:39:00.114719Z"
    }
   },
   "outputs": [
    {
     "data": {
      "text/html": [
       "<div>\n",
       "<style scoped>\n",
       "    .dataframe tbody tr th:only-of-type {\n",
       "        vertical-align: middle;\n",
       "    }\n",
       "\n",
       "    .dataframe tbody tr th {\n",
       "        vertical-align: top;\n",
       "    }\n",
       "\n",
       "    .dataframe thead th {\n",
       "        text-align: right;\n",
       "    }\n",
       "</style>\n",
       "<table border=\"1\" class=\"dataframe\">\n",
       "  <thead>\n",
       "    <tr style=\"text-align: right;\">\n",
       "      <th></th>\n",
       "      <th>PassengerId</th>\n",
       "      <th>Pclass</th>\n",
       "      <th>Name</th>\n",
       "      <th>Sex</th>\n",
       "      <th>Age</th>\n",
       "      <th>SibSp</th>\n",
       "      <th>Parch</th>\n",
       "      <th>Ticket</th>\n",
       "      <th>Fare</th>\n",
       "      <th>Cabin</th>\n",
       "      <th>Embarked</th>\n",
       "    </tr>\n",
       "  </thead>\n",
       "  <tbody>\n",
       "    <tr>\n",
       "      <td>0</td>\n",
       "      <td>892</td>\n",
       "      <td>3</td>\n",
       "      <td>Kelly, Mr. James</td>\n",
       "      <td>male</td>\n",
       "      <td>34.5</td>\n",
       "      <td>0</td>\n",
       "      <td>0</td>\n",
       "      <td>330911</td>\n",
       "      <td>7.8292</td>\n",
       "      <td>NaN</td>\n",
       "      <td>Q</td>\n",
       "    </tr>\n",
       "    <tr>\n",
       "      <td>1</td>\n",
       "      <td>893</td>\n",
       "      <td>3</td>\n",
       "      <td>Wilkes, Mrs. James (Ellen Needs)</td>\n",
       "      <td>female</td>\n",
       "      <td>47.0</td>\n",
       "      <td>1</td>\n",
       "      <td>0</td>\n",
       "      <td>363272</td>\n",
       "      <td>7.0000</td>\n",
       "      <td>NaN</td>\n",
       "      <td>S</td>\n",
       "    </tr>\n",
       "    <tr>\n",
       "      <td>2</td>\n",
       "      <td>894</td>\n",
       "      <td>2</td>\n",
       "      <td>Myles, Mr. Thomas Francis</td>\n",
       "      <td>male</td>\n",
       "      <td>62.0</td>\n",
       "      <td>0</td>\n",
       "      <td>0</td>\n",
       "      <td>240276</td>\n",
       "      <td>9.6875</td>\n",
       "      <td>NaN</td>\n",
       "      <td>Q</td>\n",
       "    </tr>\n",
       "    <tr>\n",
       "      <td>3</td>\n",
       "      <td>895</td>\n",
       "      <td>3</td>\n",
       "      <td>Wirz, Mr. Albert</td>\n",
       "      <td>male</td>\n",
       "      <td>27.0</td>\n",
       "      <td>0</td>\n",
       "      <td>0</td>\n",
       "      <td>315154</td>\n",
       "      <td>8.6625</td>\n",
       "      <td>NaN</td>\n",
       "      <td>S</td>\n",
       "    </tr>\n",
       "    <tr>\n",
       "      <td>4</td>\n",
       "      <td>896</td>\n",
       "      <td>3</td>\n",
       "      <td>Hirvonen, Mrs. Alexander (Helga E Lindqvist)</td>\n",
       "      <td>female</td>\n",
       "      <td>22.0</td>\n",
       "      <td>1</td>\n",
       "      <td>1</td>\n",
       "      <td>3101298</td>\n",
       "      <td>12.2875</td>\n",
       "      <td>NaN</td>\n",
       "      <td>S</td>\n",
       "    </tr>\n",
       "  </tbody>\n",
       "</table>\n",
       "</div>"
      ],
      "text/plain": [
       "   PassengerId  Pclass                                          Name     Sex  \\\n",
       "0          892       3                              Kelly, Mr. James    male   \n",
       "1          893       3              Wilkes, Mrs. James (Ellen Needs)  female   \n",
       "2          894       2                     Myles, Mr. Thomas Francis    male   \n",
       "3          895       3                              Wirz, Mr. Albert    male   \n",
       "4          896       3  Hirvonen, Mrs. Alexander (Helga E Lindqvist)  female   \n",
       "\n",
       "    Age  SibSp  Parch   Ticket     Fare Cabin Embarked  \n",
       "0  34.5      0      0   330911   7.8292   NaN        Q  \n",
       "1  47.0      1      0   363272   7.0000   NaN        S  \n",
       "2  62.0      0      0   240276   9.6875   NaN        Q  \n",
       "3  27.0      0      0   315154   8.6625   NaN        S  \n",
       "4  22.0      1      1  3101298  12.2875   NaN        S  "
      ]
     },
     "execution_count": 5,
     "metadata": {},
     "output_type": "execute_result"
    }
   ],
   "source": [
    "test.head()"
   ]
  },
  {
   "cell_type": "code",
   "execution_count": 6,
   "metadata": {
    "ExecuteTime": {
     "end_time": "2020-10-26T19:39:00.232085Z",
     "start_time": "2020-10-26T19:39:00.177049Z"
    }
   },
   "outputs": [],
   "source": [
    "X = train.copy().drop(\"Survived\", axis=1)\n",
    "y = train.copy()[\"Survived\"]"
   ]
  },
  {
   "cell_type": "code",
   "execution_count": 7,
   "metadata": {
    "ExecuteTime": {
     "end_time": "2020-10-26T19:39:00.275071Z",
     "start_time": "2020-10-26T19:39:00.238357Z"
    }
   },
   "outputs": [
    {
     "data": {
      "text/plain": [
       "891"
      ]
     },
     "execution_count": 7,
     "metadata": {},
     "output_type": "execute_result"
    }
   ],
   "source": [
    "len (X)"
   ]
  },
  {
   "cell_type": "markdown",
   "metadata": {},
   "source": [
    "**IF IT WAS NOT KAGGLE: Relatively small dataset so we're splitting the data into a 90/10 train/test ratio.**"
   ]
  },
  {
   "cell_type": "code",
   "execution_count": 8,
   "metadata": {
    "ExecuteTime": {
     "end_time": "2020-10-26T19:39:00.295600Z",
     "start_time": "2020-10-26T19:39:00.288236Z"
    }
   },
   "outputs": [],
   "source": [
    "# SKIP.\n",
    "#from sklearn.model_selection import train_test_split\n",
    "\n",
    "#X_train, X_test, y_train, y_test = train_test_split(X, y, test_size=0.1, \n",
    "                                                    #random_state=42)"
   ]
  },
  {
   "cell_type": "markdown",
   "metadata": {},
   "source": [
    "## EDA"
   ]
  },
  {
   "cell_type": "code",
   "execution_count": 9,
   "metadata": {
    "ExecuteTime": {
     "end_time": "2020-10-26T19:39:00.317711Z",
     "start_time": "2020-10-26T19:39:00.304554Z"
    }
   },
   "outputs": [
    {
     "data": {
      "text/plain": [
       "0    549\n",
       "1    342\n",
       "Name: Survived, dtype: int64"
      ]
     },
     "execution_count": 9,
     "metadata": {},
     "output_type": "execute_result"
    }
   ],
   "source": [
    "train[\"Survived\"].value_counts()"
   ]
  },
  {
   "cell_type": "code",
   "execution_count": 10,
   "metadata": {
    "ExecuteTime": {
     "end_time": "2020-10-26T19:39:00.670121Z",
     "start_time": "2020-10-26T19:39:00.321204Z"
    }
   },
   "outputs": [
    {
     "data": {
      "text/plain": [
       "<matplotlib.axes._subplots.AxesSubplot at 0x129f346d0>"
      ]
     },
     "execution_count": 10,
     "metadata": {},
     "output_type": "execute_result"
    },
    {
     "data": {
      "image/png": "[encoded data removed]",
      "text/plain": [
       "<Figure size 432x288 with 1 Axes>"
      ]
     },
     "metadata": {
      "needs_background": "light"
     },
     "output_type": "display_data"
    }
   ],
   "source": [
    "sns.heatmap(train.isnull(), yticklabels=False, cbar=False, cmap='viridis')"
   ]
  },
  {
   "cell_type": "code",
   "execution_count": 11,
   "metadata": {
    "ExecuteTime": {
     "end_time": "2020-10-26T19:39:00.848370Z",
     "start_time": "2020-10-26T19:39:00.677086Z"
    }
   },
   "outputs": [
    {
     "data": {
      "text/plain": [
       "<matplotlib.axes._subplots.AxesSubplot at 0x12a734350>"
      ]
     },
     "execution_count": 11,
     "metadata": {},
     "output_type": "execute_result"
    },
    {
     "data": {
      "image/png": "[encoded data removed]",
      "text/plain": [
       "<Figure size 432x288 with 1 Axes>"
      ]
     },
     "metadata": {
      "needs_background": "light"
     },
     "output_type": "display_data"
    }
   ],
   "source": [
    "sns.heatmap(test.isnull(), yticklabels=False, cbar=False, cmap='viridis')"
   ]
  },
  {
   "cell_type": "code",
   "execution_count": 12,
   "metadata": {
    "ExecuteTime": {
     "end_time": "2020-10-26T19:39:00.872476Z",
     "start_time": "2020-10-26T19:39:00.850913Z"
    }
   },
   "outputs": [
    {
     "name": "stdout",
     "output_type": "stream",
     "text": [
      "The ratio of null values for feature Age is 0.19865319865319866\n",
      "The ratio of null values for feature Cabin is 0.7710437710437711\n",
      "The ratio of null values for feature Embarked is 0.002244668911335578\n"
     ]
    }
   ],
   "source": [
    "null_features = [feature for feature in train.columns if sum(train[feature].isnull()) > 0]\n",
    "\n",
    "for feature in null_features:\n",
    "    print(\"The ratio of null values for feature {} is {}\".format(feature, \n",
    "          (sum(train[feature].isnull()) / len(train[feature]))))"
   ]
  },
  {
   "cell_type": "markdown",
   "metadata": {},
   "source": [
    "**Cabin feature will be dropped due to the high ratio of null values. Age and Embarked will be kept and handled.**"
   ]
  },
  {
   "cell_type": "code",
   "execution_count": 13,
   "metadata": {
    "ExecuteTime": {
     "end_time": "2020-10-26T19:39:00.883764Z",
     "start_time": "2020-10-26T19:39:00.875224Z"
    }
   },
   "outputs": [
    {
     "data": {
      "text/plain": [
       "(891, 11)"
      ]
     },
     "execution_count": 13,
     "metadata": {},
     "output_type": "execute_result"
    }
   ],
   "source": [
    "X.shape"
   ]
  },
  {
   "cell_type": "code",
   "execution_count": 14,
   "metadata": {
    "ExecuteTime": {
     "end_time": "2020-10-26T19:39:00.895749Z",
     "start_time": "2020-10-26T19:39:00.886338Z"
    }
   },
   "outputs": [
    {
     "data": {
      "text/plain": [
       "(891,)"
      ]
     },
     "execution_count": 14,
     "metadata": {},
     "output_type": "execute_result"
    }
   ],
   "source": [
    "y.shape"
   ]
  },
  {
   "cell_type": "code",
   "execution_count": 15,
   "metadata": {
    "ExecuteTime": {
     "end_time": "2020-10-26T19:39:00.910996Z",
     "start_time": "2020-10-26T19:39:00.897874Z"
    }
   },
   "outputs": [
    {
     "name": "stdout",
     "output_type": "stream",
     "text": [
      "<class 'pandas.core.frame.DataFrame'>\n",
      "RangeIndex: 891 entries, 0 to 890\n",
      "Data columns (total 11 columns):\n",
      "PassengerId    891 non-null int64\n",
      "Pclass         891 non-null int64\n",
      "Name           891 non-null object\n",
      "Sex            891 non-null object\n",
      "Age            714 non-null float64\n",
      "SibSp          891 non-null int64\n",
      "Parch          891 non-null int64\n",
      "Ticket         891 non-null object\n",
      "Fare           891 non-null float64\n",
      "Cabin          204 non-null object\n",
      "Embarked       889 non-null object\n",
      "dtypes: float64(2), int64(4), object(5)\n",
      "memory usage: 76.7+ KB\n"
     ]
    }
   ],
   "source": [
    "X.info()"
   ]
  },
  {
   "cell_type": "code",
   "execution_count": 16,
   "metadata": {
    "ExecuteTime": {
     "end_time": "2020-10-26T19:39:00.951047Z",
     "start_time": "2020-10-26T19:39:00.913521Z"
    }
   },
   "outputs": [
    {
     "data": {
      "text/html": [
       "<div>\n",
       "<style scoped>\n",
       "    .dataframe tbody tr th:only-of-type {\n",
       "        vertical-align: middle;\n",
       "    }\n",
       "\n",
       "    .dataframe tbody tr th {\n",
       "        vertical-align: top;\n",
       "    }\n",
       "\n",
       "    .dataframe thead th {\n",
       "        text-align: right;\n",
       "    }\n",
       "</style>\n",
       "<table border=\"1\" class=\"dataframe\">\n",
       "  <thead>\n",
       "    <tr style=\"text-align: right;\">\n",
       "      <th></th>\n",
       "      <th>PassengerId</th>\n",
       "      <th>Pclass</th>\n",
       "      <th>Age</th>\n",
       "      <th>SibSp</th>\n",
       "      <th>Parch</th>\n",
       "      <th>Fare</th>\n",
       "    </tr>\n",
       "  </thead>\n",
       "  <tbody>\n",
       "    <tr>\n",
       "      <td>count</td>\n",
       "      <td>891.000000</td>\n",
       "      <td>891.000000</td>\n",
       "      <td>714.000000</td>\n",
       "      <td>891.000000</td>\n",
       "      <td>891.000000</td>\n",
       "      <td>891.000000</td>\n",
       "    </tr>\n",
       "    <tr>\n",
       "      <td>mean</td>\n",
       "      <td>446.000000</td>\n",
       "      <td>2.308642</td>\n",
       "      <td>29.699118</td>\n",
       "      <td>0.523008</td>\n",
       "      <td>0.381594</td>\n",
       "      <td>32.204208</td>\n",
       "    </tr>\n",
       "    <tr>\n",
       "      <td>std</td>\n",
       "      <td>257.353842</td>\n",
       "      <td>0.836071</td>\n",
       "      <td>14.526497</td>\n",
       "      <td>1.102743</td>\n",
       "      <td>0.806057</td>\n",
       "      <td>49.693429</td>\n",
       "    </tr>\n",
       "    <tr>\n",
       "      <td>min</td>\n",
       "      <td>1.000000</td>\n",
       "      <td>1.000000</td>\n",
       "      <td>0.420000</td>\n",
       "      <td>0.000000</td>\n",
       "      <td>0.000000</td>\n",
       "      <td>0.000000</td>\n",
       "    </tr>\n",
       "    <tr>\n",
       "      <td>25%</td>\n",
       "      <td>223.500000</td>\n",
       "      <td>2.000000</td>\n",
       "      <td>20.125000</td>\n",
       "      <td>0.000000</td>\n",
       "      <td>0.000000</td>\n",
       "      <td>7.910400</td>\n",
       "    </tr>\n",
       "    <tr>\n",
       "      <td>50%</td>\n",
       "      <td>446.000000</td>\n",
       "      <td>3.000000</td>\n",
       "      <td>28.000000</td>\n",
       "      <td>0.000000</td>\n",
       "      <td>0.000000</td>\n",
       "      <td>14.454200</td>\n",
       "    </tr>\n",
       "    <tr>\n",
       "      <td>75%</td>\n",
       "      <td>668.500000</td>\n",
       "      <td>3.000000</td>\n",
       "      <td>38.000000</td>\n",
       "      <td>1.000000</td>\n",
       "      <td>0.000000</td>\n",
       "      <td>31.000000</td>\n",
       "    </tr>\n",
       "    <tr>\n",
       "      <td>max</td>\n",
       "      <td>891.000000</td>\n",
       "      <td>3.000000</td>\n",
       "      <td>80.000000</td>\n",
       "      <td>8.000000</td>\n",
       "      <td>6.000000</td>\n",
       "      <td>512.329200</td>\n",
       "    </tr>\n",
       "  </tbody>\n",
       "</table>\n",
       "</div>"
      ],
      "text/plain": [
       "       PassengerId      Pclass         Age       SibSp       Parch        Fare\n",
       "count   891.000000  891.000000  714.000000  891.000000  891.000000  891.000000\n",
       "mean    446.000000    2.308642   29.699118    0.523008    0.381594   32.204208\n",
       "std     257.353842    0.836071   14.526497    1.102743    0.806057   49.693429\n",
       "min       1.000000    1.000000    0.420000    0.000000    0.000000    0.000000\n",
       "25%     223.500000    2.000000   20.125000    0.000000    0.000000    7.910400\n",
       "50%     446.000000    3.000000   28.000000    0.000000    0.000000   14.454200\n",
       "75%     668.500000    3.000000   38.000000    1.000000    0.000000   31.000000\n",
       "max     891.000000    3.000000   80.000000    8.000000    6.000000  512.329200"
      ]
     },
     "execution_count": 16,
     "metadata": {},
     "output_type": "execute_result"
    }
   ],
   "source": [
    "X.describe()"
   ]
  },
  {
   "cell_type": "code",
   "execution_count": 17,
   "metadata": {
    "ExecuteTime": {
     "end_time": "2020-10-26T19:39:02.254366Z",
     "start_time": "2020-10-26T19:39:00.953609Z"
    }
   },
   "outputs": [
    {
     "data": {
      "image/png": "[encoded data removed]",
      "text/plain": [
       "<Figure size 1440x1080 with 6 Axes>"
      ]
     },
     "metadata": {
      "needs_background": "light"
     },
     "output_type": "display_data"
    }
   ],
   "source": [
    "# Visualizing numerical features\n",
    "data = X.copy()\n",
    "data.hist(bins=50, figsize=(20,15))\n",
    "plt.show()"
   ]
  },
  {
   "cell_type": "markdown",
   "metadata": {
    "ExecuteTime": {
     "end_time": "2020-10-22T10:46:43.525293Z",
     "start_time": "2020-10-22T10:46:43.444668Z"
    }
   },
   "source": [
    "**PClass is categorical, will be converted accordingly.**"
   ]
  },
  {
   "cell_type": "code",
   "execution_count": 18,
   "metadata": {
    "ExecuteTime": {
     "end_time": "2020-10-26T19:39:23.212899Z",
     "start_time": "2020-10-26T19:39:02.258701Z"
    }
   },
   "outputs": [
    {
     "data": {
      "image/png": "[encoded data removed]",
      "text/plain": [
       "<Figure size 432x288 with 1 Axes>"
      ]
     },
     "metadata": {
      "needs_background": "light"
     },
     "output_type": "display_data"
    },
    {
     "data": {
      "image/png": "[encoded data removed]",
      "text/plain": [
       "<Figure size 432x288 with 1 Axes>"
      ]
     },
     "metadata": {
      "needs_background": "light"
     },
     "output_type": "display_data"
    },
    {
     "data": {
      "image/png": "[encoded data removed]",
      "text/plain": [
       "<Figure size 432x288 with 1 Axes>"
      ]
     },
     "metadata": {
      "needs_background": "light"
     },
     "output_type": "display_data"
    },
    {
     "data": {
      "image/png": "[encoded data removed]",
      "text/plain": [
       "<Figure size 432x288 with 1 Axes>"
      ]
     },
     "metadata": {
      "needs_background": "light"
     },
     "output_type": "display_data"
    },
    {
     "data": {
      "image/png": "[encoded data removed]",
      "text/plain": [
       "<Figure size 432x288 with 1 Axes>"
      ]
     },
     "metadata": {
      "needs_background": "light"
     },
     "output_type": "display_data"
    }
   ],
   "source": [
    "# Visualizing categorial features\n",
    "cat_features = [feature for feature in train.columns if train[feature].dtype == \"O\"]\n",
    "\n",
    "for feature in cat_features:\n",
    "    data = X.copy()\n",
    "    sns.countplot(data[feature])\n",
    "    plt.show()"
   ]
  },
  {
   "cell_type": "code",
   "execution_count": 19,
   "metadata": {
    "ExecuteTime": {
     "end_time": "2020-10-26T19:39:23.596842Z",
     "start_time": "2020-10-26T19:39:23.215072Z"
    }
   },
   "outputs": [
    {
     "data": {
      "text/plain": [
       "<matplotlib.axes._subplots.AxesSubplot at 0x12b132d50>"
      ]
     },
     "execution_count": 19,
     "metadata": {},
     "output_type": "execute_result"
    },
    {
     "data": {
      "image/png": "[encoded data removed]",
      "text/plain": [
       "<Figure size 1440x1080 with 1 Axes>"
      ]
     },
     "metadata": {
      "needs_background": "light"
     },
     "output_type": "display_data"
    }
   ],
   "source": [
    "X.boxplot(figsize=(20,15))"
   ]
  },
  {
   "cell_type": "code",
   "execution_count": 20,
   "metadata": {
    "ExecuteTime": {
     "end_time": "2020-10-26T19:39:24.640947Z",
     "start_time": "2020-10-26T19:39:23.598830Z"
    }
   },
   "outputs": [
    {
     "data": {
      "image/png": "[encoded data removed]",
      "text/plain": [
       "<Figure size 432x288 with 1 Axes>"
      ]
     },
     "metadata": {
      "needs_background": "light"
     },
     "output_type": "display_data"
    },
    {
     "data": {
      "image/png": "[encoded data removed]",
      "text/plain": [
       "<Figure size 432x288 with 1 Axes>"
      ]
     },
     "metadata": {
      "needs_background": "light"
     },
     "output_type": "display_data"
    },
    {
     "data": {
      "image/png": "[encoded data removed]",
      "text/plain": [
       "<Figure size 432x288 with 1 Axes>"
      ]
     },
     "metadata": {
      "needs_background": "light"
     },
     "output_type": "display_data"
    },
    {
     "data": {
      "image/png": "[encoded data removed]",
      "text/plain": [
       "<Figure size 432x288 with 1 Axes>"
      ]
     },
     "metadata": {
      "needs_background": "light"
     },
     "output_type": "display_data"
    },
    {
     "data": {
      "image/png": "[encoded data removed]",
      "text/plain": [
       "<Figure size 432x288 with 1 Axes>"
      ]
     },
     "metadata": {
      "needs_background": "light"
     },
     "output_type": "display_data"
    },
    {
     "data": {
      "image/png": "[encoded data removed]",
      "text/plain": [
       "<Figure size 432x288 with 1 Axes>"
      ]
     },
     "metadata": {
      "needs_background": "light"
     },
     "output_type": "display_data"
    }
   ],
   "source": [
    "num_features = [feature for feature in X.columns if train[feature].dtype != \"O\"]\n",
    "\n",
    "for feature in num_features:\n",
    "    data = X.copy()\n",
    "    data.boxplot(column=feature)\n",
    "    plt.ylabel(feature)\n",
    "    plt.title(feature)\n",
    "    plt.show()"
   ]
  },
  {
   "cell_type": "code",
   "execution_count": 21,
   "metadata": {
    "ExecuteTime": {
     "end_time": "2020-10-26T19:39:24.653615Z",
     "start_time": "2020-10-26T19:39:24.645248Z"
    }
   },
   "outputs": [
    {
     "name": "stdout",
     "output_type": "stream",
     "text": [
      "Age Mean:  29.69911764705882\n",
      "Age Median:  28.0\n"
     ]
    }
   ],
   "source": [
    "print(\"Age Mean: \", X[\"Age\"].mean())\n",
    "print(\"Age Median: \", X[\"Age\"].median())"
   ]
  },
  {
   "cell_type": "markdown",
   "metadata": {},
   "source": [
    "**All num values have outliers so we will go with the medians. Example of age featurea above.**"
   ]
  },
  {
   "cell_type": "code",
   "execution_count": 22,
   "metadata": {
    "ExecuteTime": {
     "end_time": "2020-10-26T19:39:24.664752Z",
     "start_time": "2020-10-26T19:39:24.655772Z"
    }
   },
   "outputs": [
    {
     "data": {
      "text/plain": [
       "Index(['PassengerId', 'Pclass', 'Name', 'Sex', 'Age', 'SibSp', 'Parch',\n",
       "       'Ticket', 'Fare', 'Cabin', 'Embarked'],\n",
       "      dtype='object')"
      ]
     },
     "execution_count": 22,
     "metadata": {},
     "output_type": "execute_result"
    }
   ],
   "source": [
    "X.columns"
   ]
  },
  {
   "cell_type": "code",
   "execution_count": 23,
   "metadata": {
    "ExecuteTime": {
     "end_time": "2020-10-26T19:39:24.694229Z",
     "start_time": "2020-10-26T19:39:24.670921Z"
    },
    "scrolled": true
   },
   "outputs": [
    {
     "data": {
      "text/html": [
       "<div>\n",
       "<style scoped>\n",
       "    .dataframe tbody tr th:only-of-type {\n",
       "        vertical-align: middle;\n",
       "    }\n",
       "\n",
       "    .dataframe tbody tr th {\n",
       "        vertical-align: top;\n",
       "    }\n",
       "\n",
       "    .dataframe thead th {\n",
       "        text-align: right;\n",
       "    }\n",
       "</style>\n",
       "<table border=\"1\" class=\"dataframe\">\n",
       "  <thead>\n",
       "    <tr style=\"text-align: right;\">\n",
       "      <th></th>\n",
       "      <th>PassengerId</th>\n",
       "      <th>Pclass</th>\n",
       "      <th>Age</th>\n",
       "      <th>SibSp</th>\n",
       "      <th>Parch</th>\n",
       "      <th>Fare</th>\n",
       "    </tr>\n",
       "  </thead>\n",
       "  <tbody>\n",
       "    <tr>\n",
       "      <td>PassengerId</td>\n",
       "      <td>1.000000</td>\n",
       "      <td>-0.035144</td>\n",
       "      <td>0.036847</td>\n",
       "      <td>-0.057527</td>\n",
       "      <td>-0.001652</td>\n",
       "      <td>0.012658</td>\n",
       "    </tr>\n",
       "    <tr>\n",
       "      <td>Pclass</td>\n",
       "      <td>-0.035144</td>\n",
       "      <td>1.000000</td>\n",
       "      <td>-0.369226</td>\n",
       "      <td>0.083081</td>\n",
       "      <td>0.018443</td>\n",
       "      <td>-0.549500</td>\n",
       "    </tr>\n",
       "    <tr>\n",
       "      <td>Age</td>\n",
       "      <td>0.036847</td>\n",
       "      <td>-0.369226</td>\n",
       "      <td>1.000000</td>\n",
       "      <td>-0.308247</td>\n",
       "      <td>-0.189119</td>\n",
       "      <td>0.096067</td>\n",
       "    </tr>\n",
       "    <tr>\n",
       "      <td>SibSp</td>\n",
       "      <td>-0.057527</td>\n",
       "      <td>0.083081</td>\n",
       "      <td>-0.308247</td>\n",
       "      <td>1.000000</td>\n",
       "      <td>0.414838</td>\n",
       "      <td>0.159651</td>\n",
       "    </tr>\n",
       "    <tr>\n",
       "      <td>Parch</td>\n",
       "      <td>-0.001652</td>\n",
       "      <td>0.018443</td>\n",
       "      <td>-0.189119</td>\n",
       "      <td>0.414838</td>\n",
       "      <td>1.000000</td>\n",
       "      <td>0.216225</td>\n",
       "    </tr>\n",
       "    <tr>\n",
       "      <td>Fare</td>\n",
       "      <td>0.012658</td>\n",
       "      <td>-0.549500</td>\n",
       "      <td>0.096067</td>\n",
       "      <td>0.159651</td>\n",
       "      <td>0.216225</td>\n",
       "      <td>1.000000</td>\n",
       "    </tr>\n",
       "  </tbody>\n",
       "</table>\n",
       "</div>"
      ],
      "text/plain": [
       "             PassengerId    Pclass       Age     SibSp     Parch      Fare\n",
       "PassengerId     1.000000 -0.035144  0.036847 -0.057527 -0.001652  0.012658\n",
       "Pclass         -0.035144  1.000000 -0.369226  0.083081  0.018443 -0.549500\n",
       "Age             0.036847 -0.369226  1.000000 -0.308247 -0.189119  0.096067\n",
       "SibSp          -0.057527  0.083081 -0.308247  1.000000  0.414838  0.159651\n",
       "Parch          -0.001652  0.018443 -0.189119  0.414838  1.000000  0.216225\n",
       "Fare            0.012658 -0.549500  0.096067  0.159651  0.216225  1.000000"
      ]
     },
     "execution_count": 23,
     "metadata": {},
     "output_type": "execute_result"
    }
   ],
   "source": [
    "# Correlations\n",
    "data = X.copy()\n",
    "corr = data.corr()\n",
    "corr"
   ]
  },
  {
   "cell_type": "code",
   "execution_count": 24,
   "metadata": {
    "ExecuteTime": {
     "end_time": "2020-10-26T19:39:25.423620Z",
     "start_time": "2020-10-26T19:39:24.699473Z"
    },
    "scrolled": true
   },
   "outputs": [
    {
     "data": {
      "text/plain": [
       "<matplotlib.axes._subplots.AxesSubplot at 0x12a7cbd10>"
      ]
     },
     "execution_count": 24,
     "metadata": {},
     "output_type": "execute_result"
    },
    {
     "data": {
      "image/png": "[encoded data removed]",
      "text/plain": [
       "<Figure size 432x288 with 2 Axes>"
      ]
     },
     "metadata": {
      "needs_background": "light"
     },
     "output_type": "display_data"
    }
   ],
   "source": [
    "sns.heatmap(corr, annot=True)"
   ]
  },
  {
   "cell_type": "markdown",
   "metadata": {},
   "source": [
    "## Data preparation"
   ]
  },
  {
   "cell_type": "code",
   "execution_count": 25,
   "metadata": {
    "ExecuteTime": {
     "end_time": "2020-10-26T19:39:25.436632Z",
     "start_time": "2020-10-26T19:39:25.426877Z"
    }
   },
   "outputs": [],
   "source": [
    "data = X.copy()"
   ]
  },
  {
   "cell_type": "markdown",
   "metadata": {
    "ExecuteTime": {
     "end_time": "2020-10-22T11:46:16.972749Z",
     "start_time": "2020-10-22T11:46:16.929047Z"
    }
   },
   "source": [
    "**LOOK INTO COLUMNTRANSFORMER IN FUTURE STEPS!**"
   ]
  },
  {
   "cell_type": "markdown",
   "metadata": {},
   "source": [
    "### Preprocessing numerical features"
   ]
  },
  {
   "cell_type": "markdown",
   "metadata": {},
   "source": [
    "Preprocessing numerical features, dropping the PassengerId feature and turning the Pclass feature into a categorical feature. Median used for the Imputer due to outliers in almost all numerical features (see boxplots above)."
   ]
  },
  {
   "cell_type": "code",
   "execution_count": 26,
   "metadata": {
    "ExecuteTime": {
     "end_time": "2020-10-26T19:39:25.449420Z",
     "start_time": "2020-10-26T19:39:25.439767Z"
    }
   },
   "outputs": [
    {
     "data": {
      "text/plain": [
       "['PassengerId', 'Pclass', 'Age', 'SibSp', 'Parch', 'Fare']"
      ]
     },
     "execution_count": 26,
     "metadata": {},
     "output_type": "execute_result"
    }
   ],
   "source": [
    "num_features"
   ]
  },
  {
   "cell_type": "code",
   "execution_count": 27,
   "metadata": {
    "ExecuteTime": {
     "end_time": "2020-10-26T19:39:25.471677Z",
     "start_time": "2020-10-26T19:39:25.454402Z"
    },
    "scrolled": true
   },
   "outputs": [
    {
     "data": {
      "text/html": [
       "<div>\n",
       "<style scoped>\n",
       "    .dataframe tbody tr th:only-of-type {\n",
       "        vertical-align: middle;\n",
       "    }\n",
       "\n",
       "    .dataframe tbody tr th {\n",
       "        vertical-align: top;\n",
       "    }\n",
       "\n",
       "    .dataframe thead th {\n",
       "        text-align: right;\n",
       "    }\n",
       "</style>\n",
       "<table border=\"1\" class=\"dataframe\">\n",
       "  <thead>\n",
       "    <tr style=\"text-align: right;\">\n",
       "      <th></th>\n",
       "      <th>PassengerId</th>\n",
       "      <th>Pclass</th>\n",
       "      <th>Age</th>\n",
       "      <th>SibSp</th>\n",
       "      <th>Parch</th>\n",
       "      <th>Fare</th>\n",
       "    </tr>\n",
       "  </thead>\n",
       "  <tbody>\n",
       "    <tr>\n",
       "      <td>0</td>\n",
       "      <td>1</td>\n",
       "      <td>3</td>\n",
       "      <td>22.0</td>\n",
       "      <td>1</td>\n",
       "      <td>0</td>\n",
       "      <td>7.2500</td>\n",
       "    </tr>\n",
       "    <tr>\n",
       "      <td>1</td>\n",
       "      <td>2</td>\n",
       "      <td>1</td>\n",
       "      <td>38.0</td>\n",
       "      <td>1</td>\n",
       "      <td>0</td>\n",
       "      <td>71.2833</td>\n",
       "    </tr>\n",
       "    <tr>\n",
       "      <td>2</td>\n",
       "      <td>3</td>\n",
       "      <td>3</td>\n",
       "      <td>26.0</td>\n",
       "      <td>0</td>\n",
       "      <td>0</td>\n",
       "      <td>7.9250</td>\n",
       "    </tr>\n",
       "    <tr>\n",
       "      <td>3</td>\n",
       "      <td>4</td>\n",
       "      <td>1</td>\n",
       "      <td>35.0</td>\n",
       "      <td>1</td>\n",
       "      <td>0</td>\n",
       "      <td>53.1000</td>\n",
       "    </tr>\n",
       "    <tr>\n",
       "      <td>4</td>\n",
       "      <td>5</td>\n",
       "      <td>3</td>\n",
       "      <td>35.0</td>\n",
       "      <td>0</td>\n",
       "      <td>0</td>\n",
       "      <td>8.0500</td>\n",
       "    </tr>\n",
       "  </tbody>\n",
       "</table>\n",
       "</div>"
      ],
      "text/plain": [
       "   PassengerId  Pclass   Age  SibSp  Parch     Fare\n",
       "0            1       3  22.0      1      0   7.2500\n",
       "1            2       1  38.0      1      0  71.2833\n",
       "2            3       3  26.0      0      0   7.9250\n",
       "3            4       1  35.0      1      0  53.1000\n",
       "4            5       3  35.0      0      0   8.0500"
      ]
     },
     "execution_count": 27,
     "metadata": {},
     "output_type": "execute_result"
    }
   ],
   "source": [
    "data[num_features].head()"
   ]
  },
  {
   "cell_type": "code",
   "execution_count": 28,
   "metadata": {
    "ExecuteTime": {
     "end_time": "2020-10-26T19:39:25.482949Z",
     "start_time": "2020-10-26T19:39:25.476618Z"
    }
   },
   "outputs": [],
   "source": [
    "cat_features.append(\"Pclass\")"
   ]
  },
  {
   "cell_type": "code",
   "execution_count": 29,
   "metadata": {
    "ExecuteTime": {
     "end_time": "2020-10-26T19:39:25.535123Z",
     "start_time": "2020-10-26T19:39:25.488196Z"
    }
   },
   "outputs": [],
   "source": [
    "from sklearn.base import BaseEstimator, TransformerMixin\n",
    "\n",
    "class DataFrameSelector(BaseEstimator, TransformerMixin):\n",
    "    def __init__(self, attribute_names):\n",
    "        self.attribute_names = attribute_names\n",
    "    def fit(self, X, y=None):\n",
    "        return self\n",
    "    def transform(self, X):\n",
    "        return X[self.attribute_names]"
   ]
  },
  {
   "cell_type": "code",
   "execution_count": 30,
   "metadata": {
    "ExecuteTime": {
     "end_time": "2020-10-26T19:39:26.590377Z",
     "start_time": "2020-10-26T19:39:25.540620Z"
    }
   },
   "outputs": [],
   "source": [
    "from sklearn.pipeline import Pipeline\n",
    "from sklearn.impute import SimpleImputer\n",
    "from sklearn.preprocessing import StandardScaler\n",
    "\n",
    "num_pipeline = Pipeline([\n",
    "        (\"select_numeric\", DataFrameSelector([\"Age\", \"SibSp\", \"Parch\", \"Fare\"])),\n",
    "        (\"imputer\", SimpleImputer(strategy=\"median\")),\n",
    "        (\"scaler\", StandardScaler())\n",
    "    ])"
   ]
  },
  {
   "cell_type": "markdown",
   "metadata": {
    "ExecuteTime": {
     "end_time": "2020-10-22T11:56:57.977618Z",
     "start_time": "2020-10-22T11:56:57.971030Z"
    }
   },
   "source": [
    "### Preprocessing categorical features"
   ]
  },
  {
   "cell_type": "markdown",
   "metadata": {},
   "source": [
    "All name/id features are dropped as well as the 'Cabin' feature due to having 77% NaN values."
   ]
  },
  {
   "cell_type": "code",
   "execution_count": 31,
   "metadata": {
    "ExecuteTime": {
     "end_time": "2020-10-26T19:39:26.633957Z",
     "start_time": "2020-10-26T19:39:26.596506Z"
    }
   },
   "outputs": [
    {
     "data": {
      "text/html": [
       "<div>\n",
       "<style scoped>\n",
       "    .dataframe tbody tr th:only-of-type {\n",
       "        vertical-align: middle;\n",
       "    }\n",
       "\n",
       "    .dataframe tbody tr th {\n",
       "        vertical-align: top;\n",
       "    }\n",
       "\n",
       "    .dataframe thead th {\n",
       "        text-align: right;\n",
       "    }\n",
       "</style>\n",
       "<table border=\"1\" class=\"dataframe\">\n",
       "  <thead>\n",
       "    <tr style=\"text-align: right;\">\n",
       "      <th></th>\n",
       "      <th>Name</th>\n",
       "      <th>Sex</th>\n",
       "      <th>Ticket</th>\n",
       "      <th>Cabin</th>\n",
       "      <th>Embarked</th>\n",
       "      <th>Pclass</th>\n",
       "    </tr>\n",
       "  </thead>\n",
       "  <tbody>\n",
       "    <tr>\n",
       "      <td>0</td>\n",
       "      <td>Braund, Mr. Owen Harris</td>\n",
       "      <td>male</td>\n",
       "      <td>A/5 21171</td>\n",
       "      <td>NaN</td>\n",
       "      <td>S</td>\n",
       "      <td>3</td>\n",
       "    </tr>\n",
       "    <tr>\n",
       "      <td>1</td>\n",
       "      <td>Cumings, Mrs. John Bradley (Florence Briggs Th...</td>\n",
       "      <td>female</td>\n",
       "      <td>PC 17599</td>\n",
       "      <td>C85</td>\n",
       "      <td>C</td>\n",
       "      <td>1</td>\n",
       "    </tr>\n",
       "    <tr>\n",
       "      <td>2</td>\n",
       "      <td>Heikkinen, Miss. Laina</td>\n",
       "      <td>female</td>\n",
       "      <td>STON/O2. 3101282</td>\n",
       "      <td>NaN</td>\n",
       "      <td>S</td>\n",
       "      <td>3</td>\n",
       "    </tr>\n",
       "    <tr>\n",
       "      <td>3</td>\n",
       "      <td>Futrelle, Mrs. Jacques Heath (Lily May Peel)</td>\n",
       "      <td>female</td>\n",
       "      <td>113803</td>\n",
       "      <td>C123</td>\n",
       "      <td>S</td>\n",
       "      <td>1</td>\n",
       "    </tr>\n",
       "    <tr>\n",
       "      <td>4</td>\n",
       "      <td>Allen, Mr. William Henry</td>\n",
       "      <td>male</td>\n",
       "      <td>373450</td>\n",
       "      <td>NaN</td>\n",
       "      <td>S</td>\n",
       "      <td>3</td>\n",
       "    </tr>\n",
       "  </tbody>\n",
       "</table>\n",
       "</div>"
      ],
      "text/plain": [
       "                                                Name     Sex  \\\n",
       "0                            Braund, Mr. Owen Harris    male   \n",
       "1  Cumings, Mrs. John Bradley (Florence Briggs Th...  female   \n",
       "2                             Heikkinen, Miss. Laina  female   \n",
       "3       Futrelle, Mrs. Jacques Heath (Lily May Peel)  female   \n",
       "4                           Allen, Mr. William Henry    male   \n",
       "\n",
       "             Ticket Cabin Embarked  Pclass  \n",
       "0         A/5 21171   NaN        S       3  \n",
       "1          PC 17599   C85        C       1  \n",
       "2  STON/O2. 3101282   NaN        S       3  \n",
       "3            113803  C123        S       1  \n",
       "4            373450   NaN        S       3  "
      ]
     },
     "execution_count": 31,
     "metadata": {},
     "output_type": "execute_result"
    }
   ],
   "source": [
    "data[cat_features].head()"
   ]
  },
  {
   "cell_type": "code",
   "execution_count": 32,
   "metadata": {
    "ExecuteTime": {
     "end_time": "2020-10-26T19:39:26.736113Z",
     "start_time": "2020-10-26T19:39:26.642777Z"
    }
   },
   "outputs": [],
   "source": [
    "# Inspired from stackoverflow.com/questions/25239958\n",
    "class MostFrequentImputer(BaseEstimator, TransformerMixin):\n",
    "    def fit(self, X, y=None):\n",
    "        self.most_frequent_ = pd.Series([X[c].value_counts().index[0] for c in X],\n",
    "                                        index=X.columns)\n",
    "        return self\n",
    "    def transform(self, X, y=None):\n",
    "        return X.fillna(self.most_frequent_)"
   ]
  },
  {
   "cell_type": "code",
   "execution_count": 33,
   "metadata": {
    "ExecuteTime": {
     "end_time": "2020-10-26T19:39:26.753438Z",
     "start_time": "2020-10-26T19:39:26.739808Z"
    }
   },
   "outputs": [],
   "source": [
    "class OneHot(BaseEstimator, TransformerMixin):\n",
    "    def __init__(self):\n",
    "        None\n",
    "    def fit(self, X, y=None):\n",
    "        return self\n",
    "    def transform(self, X):\n",
    "        return pd.get_dummies(X.astype(str), prefix_sep='_', drop_first=True)"
   ]
  },
  {
   "cell_type": "code",
   "execution_count": 34,
   "metadata": {
    "ExecuteTime": {
     "end_time": "2020-10-26T19:39:26.768213Z",
     "start_time": "2020-10-26T19:39:26.756940Z"
    }
   },
   "outputs": [],
   "source": [
    "from sklearn.preprocessing import OneHotEncoder\n",
    "\n",
    "cat_pipeline = Pipeline([\n",
    "        (\"select_cat\", DataFrameSelector([\"Sex\", \"Embarked\", \"Pclass\"])),\n",
    "        (\"imputer\", MostFrequentImputer()),\n",
    "        (\"onehot\", OneHot())\n",
    "    ])"
   ]
  },
  {
   "cell_type": "markdown",
   "metadata": {
    "ExecuteTime": {
     "end_time": "2020-10-22T13:45:35.004231Z",
     "start_time": "2020-10-22T13:45:34.998419Z"
    }
   },
   "source": [
    "### Finalizing the pre-processing pipeline"
   ]
  },
  {
   "cell_type": "code",
   "execution_count": 35,
   "metadata": {
    "ExecuteTime": {
     "end_time": "2020-10-26T19:39:26.783582Z",
     "start_time": "2020-10-26T19:39:26.779401Z"
    }
   },
   "outputs": [],
   "source": [
    "from sklearn.pipeline import FeatureUnion\n",
    "\n",
    "preprocess_pipeline = FeatureUnion(transformer_list=[\n",
    "        (\"num_pipeline\", num_pipeline),\n",
    "        (\"cat_pipeline\", cat_pipeline)\n",
    "    ])"
   ]
  },
  {
   "cell_type": "code",
   "execution_count": 36,
   "metadata": {
    "ExecuteTime": {
     "end_time": "2020-10-26T19:39:26.818773Z",
     "start_time": "2020-10-26T19:39:26.787395Z"
    }
   },
   "outputs": [],
   "source": [
    "X = preprocess_pipeline.fit_transform(X)"
   ]
  },
  {
   "cell_type": "code",
   "execution_count": 37,
   "metadata": {
    "ExecuteTime": {
     "end_time": "2020-10-26T19:39:26.832007Z",
     "start_time": "2020-10-26T19:39:26.821407Z"
    }
   },
   "outputs": [
    {
     "data": {
      "text/plain": [
       "array([[-0.56573646,  0.43279337, -0.47367361, ...,  1.        ,\n",
       "         0.        ,  1.        ],\n",
       "       [ 0.66386103,  0.43279337, -0.47367361, ...,  0.        ,\n",
       "         0.        ,  0.        ],\n",
       "       [-0.25833709, -0.4745452 , -0.47367361, ...,  1.        ,\n",
       "         0.        ,  1.        ],\n",
       "       ...,\n",
       "       [-0.1046374 ,  0.43279337,  2.00893337, ...,  1.        ,\n",
       "         0.        ,  1.        ],\n",
       "       [-0.25833709, -0.4745452 , -0.47367361, ...,  0.        ,\n",
       "         0.        ,  0.        ],\n",
       "       [ 0.20276197, -0.4745452 , -0.47367361, ...,  0.        ,\n",
       "         0.        ,  1.        ]])"
      ]
     },
     "execution_count": 37,
     "metadata": {},
     "output_type": "execute_result"
    }
   ],
   "source": [
    "X"
   ]
  },
  {
   "cell_type": "code",
   "execution_count": 38,
   "metadata": {
    "ExecuteTime": {
     "end_time": "2020-10-26T19:39:26.843511Z",
     "start_time": "2020-10-26T19:39:26.834792Z"
    }
   },
   "outputs": [
    {
     "data": {
      "text/plain": [
       "(891, 9)"
      ]
     },
     "execution_count": 38,
     "metadata": {},
     "output_type": "execute_result"
    }
   ],
   "source": [
    "X.shape"
   ]
  },
  {
   "cell_type": "code",
   "execution_count": 39,
   "metadata": {
    "ExecuteTime": {
     "end_time": "2020-10-26T19:39:26.871030Z",
     "start_time": "2020-10-26T19:39:26.845866Z"
    }
   },
   "outputs": [
    {
     "data": {
      "text/plain": [
       "(891,)"
      ]
     },
     "execution_count": 39,
     "metadata": {},
     "output_type": "execute_result"
    }
   ],
   "source": [
    "y.shape"
   ]
  },
  {
   "cell_type": "markdown",
   "metadata": {},
   "source": [
    "## Model Selection"
   ]
  },
  {
   "cell_type": "code",
   "execution_count": 40,
   "metadata": {
    "ExecuteTime": {
     "end_time": "2020-10-26T19:39:26.931349Z",
     "start_time": "2020-10-26T19:39:26.874123Z"
    }
   },
   "outputs": [],
   "source": [
    "from sklearn.model_selection import cross_val_score"
   ]
  },
  {
   "cell_type": "code",
   "execution_count": 41,
   "metadata": {
    "ExecuteTime": {
     "end_time": "2020-10-26T19:39:27.190150Z",
     "start_time": "2020-10-26T19:39:26.933923Z"
    }
   },
   "outputs": [
    {
     "data": {
      "text/plain": [
       "0.823816252411758"
      ]
     },
     "execution_count": 41,
     "metadata": {},
     "output_type": "execute_result"
    }
   ],
   "source": [
    "# Trying SVC\n",
    "from sklearn.svm import SVC\n",
    "\n",
    "svc_clf = SVC(gamma=\"auto\")\n",
    "svm_scores = cross_val_score(svc_clf, X, y, cv=10)\n",
    "svm_scores.mean()"
   ]
  },
  {
   "cell_type": "code",
   "execution_count": 42,
   "metadata": {
    "ExecuteTime": {
     "end_time": "2020-10-26T19:39:27.331762Z",
     "start_time": "2020-10-26T19:39:27.193616Z"
    }
   },
   "outputs": [
    {
     "data": {
      "text/plain": [
       "0.7991209851322211"
      ]
     },
     "execution_count": 42,
     "metadata": {},
     "output_type": "execute_result"
    }
   ],
   "source": [
    "# Trying KNeighbours Classifier\n",
    "from sklearn.neighbors import KNeighborsClassifier\n",
    "\n",
    "knn_clf = KNeighborsClassifier()\n",
    "knn_scores = cross_val_score(knn_clf, X, y, cv=10)\n",
    "knn_scores.mean()"
   ]
  },
  {
   "cell_type": "code",
   "execution_count": 43,
   "metadata": {
    "ExecuteTime": {
     "end_time": "2020-10-26T19:39:27.685207Z",
     "start_time": "2020-10-26T19:39:27.334328Z"
    }
   },
   "outputs": [
    {
     "name": "stderr",
     "output_type": "stream",
     "text": [
      "/Users/kaya/opt/anaconda3/lib/python3.7/site-packages/sklearn/ensemble/forest.py:245: FutureWarning: The default value of n_estimators will change from 10 in version 0.20 to 100 in 0.22.\n",
      "  \"10 in version 0.20 to 100 in 0.22.\", FutureWarning)\n",
      "/Users/kaya/opt/anaconda3/lib/python3.7/site-packages/sklearn/ensemble/forest.py:245: FutureWarning: The default value of n_estimators will change from 10 in version 0.20 to 100 in 0.22.\n",
      "  \"10 in version 0.20 to 100 in 0.22.\", FutureWarning)\n",
      "/Users/kaya/opt/anaconda3/lib/python3.7/site-packages/sklearn/ensemble/forest.py:245: FutureWarning: The default value of n_estimators will change from 10 in version 0.20 to 100 in 0.22.\n",
      "  \"10 in version 0.20 to 100 in 0.22.\", FutureWarning)\n",
      "/Users/kaya/opt/anaconda3/lib/python3.7/site-packages/sklearn/ensemble/forest.py:245: FutureWarning: The default value of n_estimators will change from 10 in version 0.20 to 100 in 0.22.\n",
      "  \"10 in version 0.20 to 100 in 0.22.\", FutureWarning)\n",
      "/Users/kaya/opt/anaconda3/lib/python3.7/site-packages/sklearn/ensemble/forest.py:245: FutureWarning: The default value of n_estimators will change from 10 in version 0.20 to 100 in 0.22.\n",
      "  \"10 in version 0.20 to 100 in 0.22.\", FutureWarning)\n",
      "/Users/kaya/opt/anaconda3/lib/python3.7/site-packages/sklearn/ensemble/forest.py:245: FutureWarning: The default value of n_estimators will change from 10 in version 0.20 to 100 in 0.22.\n",
      "  \"10 in version 0.20 to 100 in 0.22.\", FutureWarning)\n",
      "/Users/kaya/opt/anaconda3/lib/python3.7/site-packages/sklearn/ensemble/forest.py:245: FutureWarning: The default value of n_estimators will change from 10 in version 0.20 to 100 in 0.22.\n",
      "  \"10 in version 0.20 to 100 in 0.22.\", FutureWarning)\n",
      "/Users/kaya/opt/anaconda3/lib/python3.7/site-packages/sklearn/ensemble/forest.py:245: FutureWarning: The default value of n_estimators will change from 10 in version 0.20 to 100 in 0.22.\n",
      "  \"10 in version 0.20 to 100 in 0.22.\", FutureWarning)\n",
      "/Users/kaya/opt/anaconda3/lib/python3.7/site-packages/sklearn/ensemble/forest.py:245: FutureWarning: The default value of n_estimators will change from 10 in version 0.20 to 100 in 0.22.\n",
      "  \"10 in version 0.20 to 100 in 0.22.\", FutureWarning)\n",
      "/Users/kaya/opt/anaconda3/lib/python3.7/site-packages/sklearn/ensemble/forest.py:245: FutureWarning: The default value of n_estimators will change from 10 in version 0.20 to 100 in 0.22.\n",
      "  \"10 in version 0.20 to 100 in 0.22.\", FutureWarning)\n"
     ]
    },
    {
     "data": {
      "text/plain": [
       "0.8070749631142891"
      ]
     },
     "execution_count": 43,
     "metadata": {},
     "output_type": "execute_result"
    }
   ],
   "source": [
    "# Trying the Random Forest Classifier\n",
    "from sklearn.ensemble import RandomForestClassifier\n",
    "\n",
    "rnd_clf = RandomForestClassifier()\n",
    "rnd_scores = cross_val_score(rnd_clf, X, y, cv=10)\n",
    "rnd_scores.mean()"
   ]
  },
  {
   "cell_type": "code",
   "execution_count": 44,
   "metadata": {
    "ExecuteTime": {
     "end_time": "2020-10-26T19:39:28.698478Z",
     "start_time": "2020-10-26T19:39:27.688009Z"
    }
   },
   "outputs": [
    {
     "data": {
      "text/plain": [
       "0.8115812620587901"
      ]
     },
     "execution_count": 44,
     "metadata": {},
     "output_type": "execute_result"
    }
   ],
   "source": [
    "# Trying the Ada Boost Classifier\n",
    "from sklearn.ensemble import AdaBoostClassifier\n",
    "\n",
    "ada_clf = AdaBoostClassifier()\n",
    "ada_scores = cross_val_score(ada_clf, X, y, cv=10)\n",
    "ada_scores.mean()"
   ]
  },
  {
   "cell_type": "code",
   "execution_count": 45,
   "metadata": {
    "ExecuteTime": {
     "end_time": "2020-10-26T19:39:28.769034Z",
     "start_time": "2020-10-26T19:39:28.701101Z"
    }
   },
   "outputs": [
    {
     "data": {
      "text/plain": [
       "0.7428123935989105"
      ]
     },
     "execution_count": 45,
     "metadata": {},
     "output_type": "execute_result"
    }
   ],
   "source": [
    "# Trying Stochastic Gradient Descent Classifier\n",
    "from sklearn.linear_model import SGDClassifier\n",
    "\n",
    "sgd_clf = SGDClassifier()\n",
    "sgd_scores = cross_val_score(sgd_clf, X, y, cv=10)\n",
    "sgd_scores.mean()"
   ]
  },
  {
   "cell_type": "code",
   "execution_count": 46,
   "metadata": {
    "ExecuteTime": {
     "end_time": "2020-10-26T19:39:28.828601Z",
     "start_time": "2020-10-26T19:39:28.775481Z"
    }
   },
   "outputs": [
    {
     "data": {
      "text/plain": [
       "0.7879724208375892"
      ]
     },
     "execution_count": 46,
     "metadata": {},
     "output_type": "execute_result"
    }
   ],
   "source": [
    "# Trying GaussianNB\n",
    "from sklearn.naive_bayes import GaussianNB \n",
    "\n",
    "gnb_clf = GaussianNB()\n",
    "gnb_scores = cross_val_score(gnb_clf, X, y, cv=10)\n",
    "gnb_scores.mean()"
   ]
  },
  {
   "cell_type": "code",
   "execution_count": 47,
   "metadata": {
    "ExecuteTime": {
     "end_time": "2020-10-26T19:39:28.900642Z",
     "start_time": "2020-10-26T19:39:28.832530Z"
    }
   },
   "outputs": [
    {
     "data": {
      "text/plain": [
       "0.7913321416411304"
      ]
     },
     "execution_count": 47,
     "metadata": {},
     "output_type": "execute_result"
    }
   ],
   "source": [
    "# Trying Decision Tree\n",
    "from sklearn.tree import DecisionTreeClassifier \n",
    "\n",
    "dt_clf = DecisionTreeClassifier()\n",
    "dt_scores = cross_val_score(dt_clf, X, y, cv=10)\n",
    "dt_scores.mean()"
   ]
  },
  {
   "cell_type": "code",
   "execution_count": 115,
   "metadata": {
    "ExecuteTime": {
     "end_time": "2020-10-26T23:23:49.236488Z",
     "start_time": "2020-10-26T23:23:49.228867Z"
    }
   },
   "outputs": [],
   "source": [
    "def prepare_submission(model, submission_tag, test_set, X_test):\n",
    "    y_test = model.predict(X_test)\n",
    "    y_test = y_test.reshape(len(y_test), 1)\n",
    "    submission_file = test.copy()\n",
    "    submission_file[\"Survived\"] = y_test\n",
    "    submission_file = submission_file[[\"PassengerId\", \"Survived\"]]\n",
    "    filename = \"Submission_{}.csv\".format(submission_tag)\n",
    "    submission_file.to_csv(filename, index=False)\n",
    "    print(\"Submission file '{}' saved.\".format(filename))"
   ]
  },
  {
   "cell_type": "markdown",
   "metadata": {},
   "source": [
    "**Model SVC (Support Vector Classifier) performed best with default values.**"
   ]
  },
  {
   "cell_type": "code",
   "execution_count": 116,
   "metadata": {
    "ExecuteTime": {
     "end_time": "2020-10-26T23:24:30.246909Z",
     "start_time": "2020-10-26T23:24:30.203730Z"
    }
   },
   "outputs": [],
   "source": [
    "X_test = preprocess_pipeline.fit_transform(test)"
   ]
  },
  {
   "cell_type": "code",
   "execution_count": 119,
   "metadata": {
    "ExecuteTime": {
     "end_time": "2020-10-26T23:27:02.348107Z",
     "start_time": "2020-10-26T23:27:02.327827Z"
    }
   },
   "outputs": [
    {
     "name": "stdout",
     "output_type": "stream",
     "text": [
      "Submission file 'Submission_SVC_1.csv' saved.\n"
     ]
    }
   ],
   "source": [
    "prepare_submission(svc_clf, \"SVC_1\", test, X_test)"
   ]
  },
  {
   "cell_type": "markdown",
   "metadata": {},
   "source": [
    "**Submitted with a 0.78229 accuracy score. Position is 3700.**"
   ]
  },
  {
   "cell_type": "markdown",
   "metadata": {},
   "source": [
    "**Adaboost classifier performed second best with default values.**"
   ]
  },
  {
   "cell_type": "code",
   "execution_count": 67,
   "metadata": {
    "ExecuteTime": {
     "end_time": "2020-10-26T20:06:13.324676Z",
     "start_time": "2020-10-26T20:06:13.320851Z"
    }
   },
   "outputs": [],
   "source": [
    "ada_clf = AdaBoostClassifier()"
   ]
  },
  {
   "cell_type": "code",
   "execution_count": 68,
   "metadata": {
    "ExecuteTime": {
     "end_time": "2020-10-26T20:06:27.184301Z",
     "start_time": "2020-10-26T20:06:27.028115Z"
    },
    "scrolled": false
   },
   "outputs": [
    {
     "data": {
      "text/plain": [
       "AdaBoostClassifier(algorithm='SAMME.R', base_estimator=None, learning_rate=1.0,\n",
       "                   n_estimators=50, random_state=None)"
      ]
     },
     "execution_count": 68,
     "metadata": {},
     "output_type": "execute_result"
    }
   ],
   "source": [
    "ada_clf.fit(X, y)"
   ]
  },
  {
   "cell_type": "code",
   "execution_count": 120,
   "metadata": {
    "ExecuteTime": {
     "end_time": "2020-10-26T23:27:06.021845Z",
     "start_time": "2020-10-26T23:27:05.595147Z"
    }
   },
   "outputs": [
    {
     "name": "stdout",
     "output_type": "stream",
     "text": [
      "Submission file 'Submission_Ada_1.csv' saved.\n"
     ]
    }
   ],
   "source": [
    "prepare_submission(ada_clf, \"Ada_1\", test, X_test)"
   ]
  },
  {
   "cell_type": "markdown",
   "metadata": {},
   "source": [
    "**Submitted with a 0.74641 score.**"
   ]
  },
  {
   "cell_type": "markdown",
   "metadata": {},
   "source": [
    "---------------------------------"
   ]
  },
  {
   "cell_type": "markdown",
   "metadata": {},
   "source": [
    "## Hyperparamater Tuning --> GridSearchCV problematic, to be done later."
   ]
  },
  {
   "cell_type": "code",
   "execution_count": 121,
   "metadata": {
    "ExecuteTime": {
     "end_time": "2020-10-26T23:27:49.156012Z",
     "start_time": "2020-10-26T23:27:49.150851Z"
    }
   },
   "outputs": [],
   "source": [
    "X = data.copy()"
   ]
  },
  {
   "cell_type": "code",
   "execution_count": 122,
   "metadata": {
    "ExecuteTime": {
     "end_time": "2020-10-26T23:27:49.855009Z",
     "start_time": "2020-10-26T23:27:49.818498Z"
    }
   },
   "outputs": [],
   "source": [
    "X = preprocess_pipeline.fit_transform(X)"
   ]
  },
  {
   "cell_type": "code",
   "execution_count": 123,
   "metadata": {
    "ExecuteTime": {
     "end_time": "2020-10-26T23:27:50.483320Z",
     "start_time": "2020-10-26T23:27:50.470329Z"
    }
   },
   "outputs": [
    {
     "data": {
      "text/plain": [
       "(891, 9)"
      ]
     },
     "execution_count": 123,
     "metadata": {},
     "output_type": "execute_result"
    }
   ],
   "source": [
    "X.shape"
   ]
  },
  {
   "cell_type": "code",
   "execution_count": 124,
   "metadata": {
    "ExecuteTime": {
     "end_time": "2020-10-26T23:27:51.432944Z",
     "start_time": "2020-10-26T23:27:51.422830Z"
    }
   },
   "outputs": [
    {
     "data": {
      "text/plain": [
       "(891,)"
      ]
     },
     "execution_count": 124,
     "metadata": {},
     "output_type": "execute_result"
    }
   ],
   "source": [
    "y.shape"
   ]
  },
  {
   "cell_type": "code",
   "execution_count": 65,
   "metadata": {
    "ExecuteTime": {
     "end_time": "2020-10-26T19:43:03.234175Z",
     "start_time": "2020-10-26T19:42:13.107172Z"
    },
    "scrolled": true
   },
   "outputs": [
    {
     "name": "stdout",
     "output_type": "stream",
     "text": [
      "Fitting 3 folds for each of 9 candidates, totalling 27 fits\n",
      "[CV] learning_rate=0.001, n_estimators=500 ...........................\n"
     ]
    },
    {
     "name": "stderr",
     "output_type": "stream",
     "text": [
      "[Parallel(n_jobs=1)]: Using backend SequentialBackend with 1 concurrent workers.\n"
     ]
    },
    {
     "name": "stdout",
     "output_type": "stream",
     "text": [
      "[CV]  learning_rate=0.001, n_estimators=500, score=0.788, total=   0.9s\n",
      "[CV] learning_rate=0.001, n_estimators=500 ...........................\n"
     ]
    },
    {
     "name": "stderr",
     "output_type": "stream",
     "text": [
      "[Parallel(n_jobs=1)]: Done   1 out of   1 | elapsed:    0.9s remaining:    0.0s\n"
     ]
    },
    {
     "name": "stdout",
     "output_type": "stream",
     "text": [
      "[CV]  learning_rate=0.001, n_estimators=500, score=0.801, total=   0.8s\n",
      "[CV] learning_rate=0.001, n_estimators=500 ...........................\n"
     ]
    },
    {
     "name": "stderr",
     "output_type": "stream",
     "text": [
      "[Parallel(n_jobs=1)]: Done   2 out of   2 | elapsed:    1.7s remaining:    0.0s\n"
     ]
    },
    {
     "name": "stdout",
     "output_type": "stream",
     "text": [
      "[CV]  learning_rate=0.001, n_estimators=500, score=0.771, total=   0.7s\n",
      "[CV] learning_rate=0.001, n_estimators=1000 ..........................\n"
     ]
    },
    {
     "name": "stderr",
     "output_type": "stream",
     "text": [
      "[Parallel(n_jobs=1)]: Done   3 out of   3 | elapsed:    2.4s remaining:    0.0s\n"
     ]
    },
    {
     "name": "stdout",
     "output_type": "stream",
     "text": [
      "[CV]  learning_rate=0.001, n_estimators=1000, score=0.788, total=   1.4s\n",
      "[CV] learning_rate=0.001, n_estimators=1000 ..........................\n",
      "[CV]  learning_rate=0.001, n_estimators=1000, score=0.801, total=   2.0s\n",
      "[CV] learning_rate=0.001, n_estimators=1000 ..........................\n",
      "[CV]  learning_rate=0.001, n_estimators=1000, score=0.771, total=   1.5s\n",
      "[CV] learning_rate=0.001, n_estimators=2000 ..........................\n",
      "[CV]  learning_rate=0.001, n_estimators=2000, score=0.788, total=   2.7s\n",
      "[CV] learning_rate=0.001, n_estimators=2000 ..........................\n",
      "[CV]  learning_rate=0.001, n_estimators=2000, score=0.801, total=   3.0s\n",
      "[CV] learning_rate=0.001, n_estimators=2000 ..........................\n",
      "[CV]  learning_rate=0.001, n_estimators=2000, score=0.771, total=   3.1s\n",
      "[CV] learning_rate=0.01, n_estimators=500 ............................\n",
      "[CV]  learning_rate=0.01, n_estimators=500, score=0.805, total=   0.7s\n",
      "[CV] learning_rate=0.01, n_estimators=500 ............................\n",
      "[CV]  learning_rate=0.01, n_estimators=500, score=0.801, total=   0.7s\n",
      "[CV] learning_rate=0.01, n_estimators=500 ............................\n",
      "[CV]  learning_rate=0.01, n_estimators=500, score=0.778, total=   0.7s\n",
      "[CV] learning_rate=0.01, n_estimators=1000 ...........................\n",
      "[CV]  learning_rate=0.01, n_estimators=1000, score=0.771, total=   1.5s\n",
      "[CV] learning_rate=0.01, n_estimators=1000 ...........................\n",
      "[CV]  learning_rate=0.01, n_estimators=1000, score=0.808, total=   1.4s\n",
      "[CV] learning_rate=0.01, n_estimators=1000 ...........................\n",
      "[CV]  learning_rate=0.01, n_estimators=1000, score=0.791, total=   1.4s\n",
      "[CV] learning_rate=0.01, n_estimators=2000 ...........................\n",
      "[CV]  learning_rate=0.01, n_estimators=2000, score=0.761, total=   3.1s\n",
      "[CV] learning_rate=0.01, n_estimators=2000 ...........................\n",
      "[CV]  learning_rate=0.01, n_estimators=2000, score=0.808, total=   2.9s\n",
      "[CV] learning_rate=0.01, n_estimators=2000 ...........................\n",
      "[CV]  learning_rate=0.01, n_estimators=2000, score=0.811, total=   2.9s\n",
      "[CV] learning_rate=0.1, n_estimators=500 .............................\n",
      "[CV] . learning_rate=0.1, n_estimators=500, score=0.754, total=   0.7s\n",
      "[CV] learning_rate=0.1, n_estimators=500 .............................\n",
      "[CV] . learning_rate=0.1, n_estimators=500, score=0.808, total=   0.7s\n",
      "[CV] learning_rate=0.1, n_estimators=500 .............................\n",
      "[CV] . learning_rate=0.1, n_estimators=500, score=0.815, total=   0.7s\n",
      "[CV] learning_rate=0.1, n_estimators=1000 ............................\n",
      "[CV]  learning_rate=0.1, n_estimators=1000, score=0.758, total=   1.5s\n",
      "[CV] learning_rate=0.1, n_estimators=1000 ............................\n",
      "[CV]  learning_rate=0.1, n_estimators=1000, score=0.815, total=   1.5s\n",
      "[CV] learning_rate=0.1, n_estimators=1000 ............................\n",
      "[CV]  learning_rate=0.1, n_estimators=1000, score=0.818, total=   1.5s\n",
      "[CV] learning_rate=0.1, n_estimators=2000 ............................\n",
      "[CV]  learning_rate=0.1, n_estimators=2000, score=0.754, total=   3.0s\n",
      "[CV] learning_rate=0.1, n_estimators=2000 ............................\n",
      "[CV]  learning_rate=0.1, n_estimators=2000, score=0.828, total=   3.0s\n",
      "[CV] learning_rate=0.1, n_estimators=2000 ............................\n",
      "[CV]  learning_rate=0.1, n_estimators=2000, score=0.818, total=   3.0s\n"
     ]
    },
    {
     "name": "stderr",
     "output_type": "stream",
     "text": [
      "[Parallel(n_jobs=1)]: Done  27 out of  27 | elapsed:   47.1s finished\n"
     ]
    },
    {
     "data": {
      "text/plain": [
       "GridSearchCV(cv=3, error_score='raise-deprecating',\n",
       "             estimator=AdaBoostClassifier(algorithm='SAMME.R',\n",
       "                                          base_estimator=None,\n",
       "                                          learning_rate=1.0, n_estimators=50,\n",
       "                                          random_state=None),\n",
       "             iid='warn', n_jobs=None,\n",
       "             param_grid=[{'learning_rate': [0.001, 0.01, 0.1],\n",
       "                          'n_estimators': [500, 1000, 2000]}],\n",
       "             pre_dispatch='2*n_jobs', refit=True, return_train_score=False,\n",
       "             scoring=None, verbose=4)"
      ]
     },
     "execution_count": 65,
     "metadata": {},
     "output_type": "execute_result"
    }
   ],
   "source": [
    "from sklearn.model_selection import GridSearchCV\n",
    "\n",
    "param_grid = [{\n",
    "    'n_estimators': [500,1000,2000],\n",
    "    'learning_rate': [.001,0.01,.1]what d\n",
    "}]\n",
    "\n",
    "\n",
    "ada_clf = AdaBoostClassifier()\n",
    "grid_search = GridSearchCV(ada_clf, param_grid, cv=3,\n",
    "                           verbose=4)\n",
    "grid_search.fit(X,y)"
   ]
  },
  {
   "cell_type": "code",
   "execution_count": 125,
   "metadata": {
    "ExecuteTime": {
     "end_time": "2020-10-26T23:28:02.589781Z",
     "start_time": "2020-10-26T23:28:02.583413Z"
    }
   },
   "outputs": [],
   "source": [
    "best_params = grid_search.best_params_"
   ]
  },
  {
   "cell_type": "code",
   "execution_count": 128,
   "metadata": {
    "ExecuteTime": {
     "end_time": "2020-10-26T23:30:04.633950Z",
     "start_time": "2020-10-26T23:30:04.619117Z"
    }
   },
   "outputs": [
    {
     "data": {
      "text/plain": [
       "{'learning_rate': 0.1, 'n_estimators': 2000}"
      ]
     },
     "execution_count": 128,
     "metadata": {},
     "output_type": "execute_result"
    }
   ],
   "source": [
    "best_params"
   ]
  },
  {
   "cell_type": "code",
   "execution_count": 126,
   "metadata": {
    "ExecuteTime": {
     "end_time": "2020-10-26T23:28:09.822576Z",
     "start_time": "2020-10-26T23:28:06.520985Z"
    }
   },
   "outputs": [
    {
     "data": {
      "text/plain": [
       "AdaBoostClassifier(algorithm='SAMME.R', base_estimator=None, learning_rate=0.1,\n",
       "                   n_estimators=2000, random_state=None)"
      ]
     },
     "execution_count": 126,
     "metadata": {},
     "output_type": "execute_result"
    }
   ],
   "source": [
    "ada_clf = AdaBoostClassifier(**best_params)\n",
    "ada_clf.fit(X, y)"
   ]
  },
  {
   "cell_type": "code",
   "execution_count": 127,
   "metadata": {
    "ExecuteTime": {
     "end_time": "2020-10-26T23:29:03.041782Z",
     "start_time": "2020-10-26T23:29:02.595703Z"
    }
   },
   "outputs": [
    {
     "name": "stdout",
     "output_type": "stream",
     "text": [
      "Submission file 'Submission_Ada_2.csv' saved.\n"
     ]
    }
   ],
   "source": [
    "prepare_submission(ada_clf, \"Ada_2\", test, X_test)"
   ]
  },
  {
   "cell_type": "markdown",
   "metadata": {},
   "source": [
    "**Scored 0.73684 with tuned hyperparameters. Overfitting?**"
   ]
  },
  {
   "cell_type": "markdown",
   "metadata": {},
   "source": [
    "### Randomized grid search"
   ]
  },
  {
   "cell_type": "code",
   "execution_count": 149,
   "metadata": {
    "ExecuteTime": {
     "end_time": "2020-10-27T01:58:04.843941Z",
     "start_time": "2020-10-26T23:46:22.466511Z"
    },
    "scrolled": false
   },
   "outputs": [
    {
     "name": "stdout",
     "output_type": "stream",
     "text": [
      "Fitting 3 folds for each of 50 candidates, totalling 150 fits\n"
     ]
    },
    {
     "name": "stderr",
     "output_type": "stream",
     "text": [
      "[Parallel(n_jobs=-1)]: Using backend LokyBackend with 4 concurrent workers.\n",
      "[Parallel(n_jobs=-1)]: Done  17 tasks      | elapsed: 14.7min\n",
      "[Parallel(n_jobs=-1)]: Done  90 tasks      | elapsed: 80.6min\n",
      "[Parallel(n_jobs=-1)]: Done 150 out of 150 | elapsed: 130.6min finished\n"
     ]
    },
    {
     "data": {
      "text/plain": [
       "RandomizedSearchCV(cv=3, error_score='raise-deprecating',\n",
       "                   estimator=AdaBoostClassifier(algorithm='SAMME.R',\n",
       "                                                base_estimator=None,\n",
       "                                                learning_rate=1.0,\n",
       "                                                n_estimators=50,\n",
       "                                                random_state=None),\n",
       "                   iid='warn', n_iter=50, n_jobs=-1,\n",
       "                   param_distributions={'learning_rate': array([0.000e+00, 1.000e-03, 2.000e-03, ..., 4.997e+00, 4.998e+00,\n",
       "       4.999e+00]),\n",
       "                                        'n_estimators': range(0, 100000)},\n",
       "                   pre_dispatch='2*n_jobs', random_state=42, refit=True,\n",
       "                   return_train_score=False, scoring=None, verbose=4)"
      ]
     },
     "execution_count": 149,
     "metadata": {},
     "output_type": "execute_result"
    }
   ],
   "source": [
    "from sklearn.model_selection import RandomizedSearchCV\n",
    "import numpy as np\n",
    "\n",
    "param_dists = {\n",
    "    'n_estimators': range(0,100000),\n",
    "    'learning_rate': np.arange(0, 5, 0.001)  \n",
    "    }\n",
    "    \n",
    "ada_clf = AdaBoostClassifier()\n",
    "rnd_search = RandomizedSearchCV(ada_clf, param_distributions=param_dists, n_iter=50,\n",
    "                               cv=3, verbose=4, random_state=42, n_jobs=-1)\n",
    "rnd_search.fit(X, y)"
   ]
  },
  {
   "cell_type": "code",
   "execution_count": 153,
   "metadata": {
    "ExecuteTime": {
     "end_time": "2020-10-27T09:17:04.648129Z",
     "start_time": "2020-10-27T09:17:04.586524Z"
    }
   },
   "outputs": [
    {
     "data": {
      "text/html": [
       "<div>\n",
       "<style scoped>\n",
       "    .dataframe tbody tr th:only-of-type {\n",
       "        vertical-align: middle;\n",
       "    }\n",
       "\n",
       "    .dataframe tbody tr th {\n",
       "        vertical-align: top;\n",
       "    }\n",
       "\n",
       "    .dataframe thead th {\n",
       "        text-align: right;\n",
       "    }\n",
       "</style>\n",
       "<table border=\"1\" class=\"dataframe\">\n",
       "  <thead>\n",
       "    <tr style=\"text-align: right;\">\n",
       "      <th></th>\n",
       "      <th>mean_fit_time</th>\n",
       "      <th>std_fit_time</th>\n",
       "      <th>mean_score_time</th>\n",
       "      <th>std_score_time</th>\n",
       "      <th>param_n_estimators</th>\n",
       "      <th>param_learning_rate</th>\n",
       "      <th>params</th>\n",
       "      <th>split0_test_score</th>\n",
       "      <th>split1_test_score</th>\n",
       "      <th>split2_test_score</th>\n",
       "      <th>mean_test_score</th>\n",
       "      <th>std_test_score</th>\n",
       "      <th>rank_test_score</th>\n",
       "    </tr>\n",
       "  </thead>\n",
       "  <tbody>\n",
       "    <tr>\n",
       "      <td>0</td>\n",
       "      <td>1.592885</td>\n",
       "      <td>0.045811</td>\n",
       "      <td>0.269034</td>\n",
       "      <td>0.009062</td>\n",
       "      <td>595</td>\n",
       "      <td>1.999</td>\n",
       "      <td>{'n_estimators': 595, 'learning_rate': 1.999}</td>\n",
       "      <td>0.787879</td>\n",
       "      <td>0.747475</td>\n",
       "      <td>0.771044</td>\n",
       "      <td>0.768799</td>\n",
       "      <td>0.016571</td>\n",
       "      <td>24</td>\n",
       "    </tr>\n",
       "    <tr>\n",
       "      <td>1</td>\n",
       "      <td>380.050103</td>\n",
       "      <td>2.899755</td>\n",
       "      <td>44.946432</td>\n",
       "      <td>0.837600</td>\n",
       "      <td>90492</td>\n",
       "      <td>3.251</td>\n",
       "      <td>{'n_estimators': 90492, 'learning_rate': 3.251}</td>\n",
       "      <td>0.212121</td>\n",
       "      <td>0.198653</td>\n",
       "      <td>0.228956</td>\n",
       "      <td>0.213244</td>\n",
       "      <td>0.012397</td>\n",
       "      <td>37</td>\n",
       "    </tr>\n",
       "    <tr>\n",
       "      <td>2</td>\n",
       "      <td>314.846203</td>\n",
       "      <td>9.802341</td>\n",
       "      <td>34.074121</td>\n",
       "      <td>2.225607</td>\n",
       "      <td>75502</td>\n",
       "      <td>2.509</td>\n",
       "      <td>{'n_estimators': 75502, 'learning_rate': 2.509}</td>\n",
       "      <td>0.212121</td>\n",
       "      <td>0.198653</td>\n",
       "      <td>0.228956</td>\n",
       "      <td>0.213244</td>\n",
       "      <td>0.012397</td>\n",
       "      <td>37</td>\n",
       "    </tr>\n",
       "    <tr>\n",
       "      <td>3</td>\n",
       "      <td>128.336178</td>\n",
       "      <td>7.908279</td>\n",
       "      <td>17.696191</td>\n",
       "      <td>1.176681</td>\n",
       "      <td>35466</td>\n",
       "      <td>4.595</td>\n",
       "      <td>{'n_estimators': 35466, 'learning_rate': 4.595}</td>\n",
       "      <td>0.212121</td>\n",
       "      <td>0.198653</td>\n",
       "      <td>0.228956</td>\n",
       "      <td>0.213244</td>\n",
       "      <td>0.012397</td>\n",
       "      <td>37</td>\n",
       "    </tr>\n",
       "    <tr>\n",
       "      <td>4</td>\n",
       "      <td>67.737599</td>\n",
       "      <td>0.257207</td>\n",
       "      <td>8.007691</td>\n",
       "      <td>0.064272</td>\n",
       "      <td>21863</td>\n",
       "      <td>1.275</td>\n",
       "      <td>{'n_estimators': 21863, 'learning_rate': 1.275...</td>\n",
       "      <td>0.734007</td>\n",
       "      <td>0.727273</td>\n",
       "      <td>0.760943</td>\n",
       "      <td>0.740741</td>\n",
       "      <td>0.014547</td>\n",
       "      <td>28</td>\n",
       "    </tr>\n",
       "    <tr>\n",
       "      <td>5</td>\n",
       "      <td>117.028183</td>\n",
       "      <td>2.975457</td>\n",
       "      <td>21.449737</td>\n",
       "      <td>3.666487</td>\n",
       "      <td>34972</td>\n",
       "      <td>4.237</td>\n",
       "      <td>{'n_estimators': 34972, 'learning_rate': 4.237}</td>\n",
       "      <td>0.212121</td>\n",
       "      <td>0.198653</td>\n",
       "      <td>0.228956</td>\n",
       "      <td>0.213244</td>\n",
       "      <td>0.012397</td>\n",
       "      <td>37</td>\n",
       "    </tr>\n",
       "    <tr>\n",
       "      <td>6</td>\n",
       "      <td>265.727220</td>\n",
       "      <td>4.260712</td>\n",
       "      <td>29.581869</td>\n",
       "      <td>0.567555</td>\n",
       "      <td>68276</td>\n",
       "      <td>4.159</td>\n",
       "      <td>{'n_estimators': 68276, 'learning_rate': 4.159}</td>\n",
       "      <td>0.212121</td>\n",
       "      <td>0.198653</td>\n",
       "      <td>0.228956</td>\n",
       "      <td>0.213244</td>\n",
       "      <td>0.012397</td>\n",
       "      <td>37</td>\n",
       "    </tr>\n",
       "    <tr>\n",
       "      <td>7</td>\n",
       "      <td>78.519372</td>\n",
       "      <td>6.708443</td>\n",
       "      <td>8.856327</td>\n",
       "      <td>0.169287</td>\n",
       "      <td>24038</td>\n",
       "      <td>1.332</td>\n",
       "      <td>{'n_estimators': 24038, 'learning_rate': 1.332}</td>\n",
       "      <td>0.727273</td>\n",
       "      <td>0.720539</td>\n",
       "      <td>0.757576</td>\n",
       "      <td>0.735129</td>\n",
       "      <td>0.016109</td>\n",
       "      <td>30</td>\n",
       "    </tr>\n",
       "    <tr>\n",
       "      <td>8</td>\n",
       "      <td>77.832127</td>\n",
       "      <td>0.952894</td>\n",
       "      <td>10.669935</td>\n",
       "      <td>2.230680</td>\n",
       "      <td>24377</td>\n",
       "      <td>3.042</td>\n",
       "      <td>{'n_estimators': 24377, 'learning_rate': 3.042...</td>\n",
       "      <td>0.787879</td>\n",
       "      <td>0.801347</td>\n",
       "      <td>0.771044</td>\n",
       "      <td>0.786756</td>\n",
       "      <td>0.012397</td>\n",
       "      <td>2</td>\n",
       "    </tr>\n",
       "    <tr>\n",
       "      <td>9</td>\n",
       "      <td>64.946261</td>\n",
       "      <td>1.500199</td>\n",
       "      <td>7.592053</td>\n",
       "      <td>0.071572</td>\n",
       "      <td>20466</td>\n",
       "      <td>1.331</td>\n",
       "      <td>{'n_estimators': 20466, 'learning_rate': 1.331}</td>\n",
       "      <td>0.727273</td>\n",
       "      <td>0.720539</td>\n",
       "      <td>0.767677</td>\n",
       "      <td>0.738496</td>\n",
       "      <td>0.020816</td>\n",
       "      <td>29</td>\n",
       "    </tr>\n",
       "    <tr>\n",
       "      <td>10</td>\n",
       "      <td>326.383943</td>\n",
       "      <td>7.320178</td>\n",
       "      <td>40.760447</td>\n",
       "      <td>0.434857</td>\n",
       "      <td>89014</td>\n",
       "      <td>4.293</td>\n",
       "      <td>{'n_estimators': 89014, 'learning_rate': 4.293}</td>\n",
       "      <td>0.212121</td>\n",
       "      <td>0.198653</td>\n",
       "      <td>0.228956</td>\n",
       "      <td>0.213244</td>\n",
       "      <td>0.012397</td>\n",
       "      <td>37</td>\n",
       "    </tr>\n",
       "    <tr>\n",
       "      <td>11</td>\n",
       "      <td>248.384228</td>\n",
       "      <td>4.793631</td>\n",
       "      <td>31.019371</td>\n",
       "      <td>0.272508</td>\n",
       "      <td>67210</td>\n",
       "      <td>2.494</td>\n",
       "      <td>{'n_estimators': 67210, 'learning_rate': 2.494}</td>\n",
       "      <td>0.212121</td>\n",
       "      <td>0.198653</td>\n",
       "      <td>0.228956</td>\n",
       "      <td>0.213244</td>\n",
       "      <td>0.012397</td>\n",
       "      <td>37</td>\n",
       "    </tr>\n",
       "    <tr>\n",
       "      <td>12</td>\n",
       "      <td>165.861738</td>\n",
       "      <td>2.943000</td>\n",
       "      <td>25.599389</td>\n",
       "      <td>2.923963</td>\n",
       "      <td>46218</td>\n",
       "      <td>3.618</td>\n",
       "      <td>{'n_estimators': 46218, 'learning_rate': 3.618}</td>\n",
       "      <td>0.212121</td>\n",
       "      <td>0.198653</td>\n",
       "      <td>0.228956</td>\n",
       "      <td>0.213244</td>\n",
       "      <td>0.012397</td>\n",
       "      <td>37</td>\n",
       "    </tr>\n",
       "    <tr>\n",
       "      <td>13</td>\n",
       "      <td>275.186591</td>\n",
       "      <td>3.185759</td>\n",
       "      <td>31.246867</td>\n",
       "      <td>1.240413</td>\n",
       "      <td>72759</td>\n",
       "      <td>4.989</td>\n",
       "      <td>{'n_estimators': 72759, 'learning_rate': 4.989}</td>\n",
       "      <td>0.787879</td>\n",
       "      <td>0.801347</td>\n",
       "      <td>0.771044</td>\n",
       "      <td>0.786756</td>\n",
       "      <td>0.012397</td>\n",
       "      <td>2</td>\n",
       "    </tr>\n",
       "    <tr>\n",
       "      <td>14</td>\n",
       "      <td>79.736791</td>\n",
       "      <td>0.501025</td>\n",
       "      <td>10.849670</td>\n",
       "      <td>1.787714</td>\n",
       "      <td>25748</td>\n",
       "      <td>3.595</td>\n",
       "      <td>{'n_estimators': 25748, 'learning_rate': 3.595}</td>\n",
       "      <td>0.212121</td>\n",
       "      <td>0.198653</td>\n",
       "      <td>0.228956</td>\n",
       "      <td>0.213244</td>\n",
       "      <td>0.012397</td>\n",
       "      <td>37</td>\n",
       "    </tr>\n",
       "    <tr>\n",
       "      <td>15</td>\n",
       "      <td>322.460172</td>\n",
       "      <td>12.897540</td>\n",
       "      <td>37.769988</td>\n",
       "      <td>1.769298</td>\n",
       "      <td>85667</td>\n",
       "      <td>4.342</td>\n",
       "      <td>{'n_estimators': 85667, 'learning_rate': 4.342...</td>\n",
       "      <td>0.787879</td>\n",
       "      <td>0.801347</td>\n",
       "      <td>0.771044</td>\n",
       "      <td>0.786756</td>\n",
       "      <td>0.012397</td>\n",
       "      <td>2</td>\n",
       "    </tr>\n",
       "    <tr>\n",
       "      <td>16</td>\n",
       "      <td>127.674596</td>\n",
       "      <td>2.337039</td>\n",
       "      <td>22.354923</td>\n",
       "      <td>1.255538</td>\n",
       "      <td>37383</td>\n",
       "      <td>0.767</td>\n",
       "      <td>{'n_estimators': 37383, 'learning_rate': 0.767}</td>\n",
       "      <td>0.737374</td>\n",
       "      <td>0.734007</td>\n",
       "      <td>0.771044</td>\n",
       "      <td>0.747475</td>\n",
       "      <td>0.016722</td>\n",
       "      <td>26</td>\n",
       "    </tr>\n",
       "    <tr>\n",
       "      <td>17</td>\n",
       "      <td>349.575959</td>\n",
       "      <td>4.579344</td>\n",
       "      <td>43.093162</td>\n",
       "      <td>0.364060</td>\n",
       "      <td>94007</td>\n",
       "      <td>3.567</td>\n",
       "      <td>{'n_estimators': 94007, 'learning_rate': 3.567}</td>\n",
       "      <td>0.787879</td>\n",
       "      <td>0.801347</td>\n",
       "      <td>0.771044</td>\n",
       "      <td>0.786756</td>\n",
       "      <td>0.012397</td>\n",
       "      <td>2</td>\n",
       "    </tr>\n",
       "    <tr>\n",
       "      <td>18</td>\n",
       "      <td>331.651979</td>\n",
       "      <td>5.488187</td>\n",
       "      <td>39.411302</td>\n",
       "      <td>1.391345</td>\n",
       "      <td>90146</td>\n",
       "      <td>1.111</td>\n",
       "      <td>{'n_estimators': 90146, 'learning_rate': 1.111}</td>\n",
       "      <td>0.713805</td>\n",
       "      <td>0.710438</td>\n",
       "      <td>0.740741</td>\n",
       "      <td>0.721661</td>\n",
       "      <td>0.013561</td>\n",
       "      <td>34</td>\n",
       "    </tr>\n",
       "    <tr>\n",
       "      <td>19</td>\n",
       "      <td>29.798531</td>\n",
       "      <td>0.147133</td>\n",
       "      <td>3.588997</td>\n",
       "      <td>0.037579</td>\n",
       "      <td>9749</td>\n",
       "      <td>0.884</td>\n",
       "      <td>{'n_estimators': 9749, 'learning_rate': 0.884}</td>\n",
       "      <td>0.750842</td>\n",
       "      <td>0.777778</td>\n",
       "      <td>0.801347</td>\n",
       "      <td>0.776655</td>\n",
       "      <td>0.020634</td>\n",
       "      <td>21</td>\n",
       "    </tr>\n",
       "    <tr>\n",
       "      <td>20</td>\n",
       "      <td>331.451397</td>\n",
       "      <td>9.762823</td>\n",
       "      <td>43.347763</td>\n",
       "      <td>6.964307</td>\n",
       "      <td>85876</td>\n",
       "      <td>2.422</td>\n",
       "      <td>{'n_estimators': 85876, 'learning_rate': 2.422}</td>\n",
       "      <td>0.212121</td>\n",
       "      <td>0.198653</td>\n",
       "      <td>0.228956</td>\n",
       "      <td>0.213244</td>\n",
       "      <td>0.012397</td>\n",
       "      <td>37</td>\n",
       "    </tr>\n",
       "    <tr>\n",
       "      <td>21</td>\n",
       "      <td>112.466787</td>\n",
       "      <td>0.795201</td>\n",
       "      <td>18.579938</td>\n",
       "      <td>4.282802</td>\n",
       "      <td>34689</td>\n",
       "      <td>4.076</td>\n",
       "      <td>{'n_estimators': 34689, 'learning_rate': 4.076...</td>\n",
       "      <td>0.787879</td>\n",
       "      <td>0.801347</td>\n",
       "      <td>0.771044</td>\n",
       "      <td>0.786756</td>\n",
       "      <td>0.012397</td>\n",
       "      <td>2</td>\n",
       "    </tr>\n",
       "    <tr>\n",
       "      <td>22</td>\n",
       "      <td>20.181387</td>\n",
       "      <td>0.125732</td>\n",
       "      <td>2.397132</td>\n",
       "      <td>0.057454</td>\n",
       "      <td>6551</td>\n",
       "      <td>4.166</td>\n",
       "      <td>{'n_estimators': 6551, 'learning_rate': 4.166}</td>\n",
       "      <td>0.787879</td>\n",
       "      <td>0.801347</td>\n",
       "      <td>0.771044</td>\n",
       "      <td>0.786756</td>\n",
       "      <td>0.012397</td>\n",
       "      <td>2</td>\n",
       "    </tr>\n",
       "    <tr>\n",
       "      <td>23</td>\n",
       "      <td>337.843971</td>\n",
       "      <td>16.529699</td>\n",
       "      <td>37.705118</td>\n",
       "      <td>2.980596</td>\n",
       "      <td>88427</td>\n",
       "      <td>3.54</td>\n",
       "      <td>{'n_estimators': 88427, 'learning_rate': 3.54}</td>\n",
       "      <td>0.787879</td>\n",
       "      <td>0.801347</td>\n",
       "      <td>0.771044</td>\n",
       "      <td>0.786756</td>\n",
       "      <td>0.012397</td>\n",
       "      <td>2</td>\n",
       "    </tr>\n",
       "    <tr>\n",
       "      <td>24</td>\n",
       "      <td>201.865321</td>\n",
       "      <td>3.870799</td>\n",
       "      <td>29.821106</td>\n",
       "      <td>6.232062</td>\n",
       "      <td>56829</td>\n",
       "      <td>2.729</td>\n",
       "      <td>{'n_estimators': 56829, 'learning_rate': 2.729}</td>\n",
       "      <td>0.787879</td>\n",
       "      <td>0.801347</td>\n",
       "      <td>0.771044</td>\n",
       "      <td>0.786756</td>\n",
       "      <td>0.012397</td>\n",
       "      <td>2</td>\n",
       "    </tr>\n",
       "    <tr>\n",
       "      <td>25</td>\n",
       "      <td>57.351806</td>\n",
       "      <td>0.304983</td>\n",
       "      <td>6.765153</td>\n",
       "      <td>0.069658</td>\n",
       "      <td>18629</td>\n",
       "      <td>3.751</td>\n",
       "      <td>{'n_estimators': 18629, 'learning_rate': 3.751}</td>\n",
       "      <td>0.787879</td>\n",
       "      <td>0.801347</td>\n",
       "      <td>0.771044</td>\n",
       "      <td>0.786756</td>\n",
       "      <td>0.012397</td>\n",
       "      <td>2</td>\n",
       "    </tr>\n",
       "    <tr>\n",
       "      <td>26</td>\n",
       "      <td>156.256532</td>\n",
       "      <td>2.459221</td>\n",
       "      <td>26.353187</td>\n",
       "      <td>2.884029</td>\n",
       "      <td>44769</td>\n",
       "      <td>0.033</td>\n",
       "      <td>{'n_estimators': 44769, 'learning_rate': 0.033}</td>\n",
       "      <td>0.774411</td>\n",
       "      <td>0.818182</td>\n",
       "      <td>0.808081</td>\n",
       "      <td>0.800224</td>\n",
       "      <td>0.018713</td>\n",
       "      <td>1</td>\n",
       "    </tr>\n",
       "    <tr>\n",
       "      <td>27</td>\n",
       "      <td>229.353992</td>\n",
       "      <td>2.326490</td>\n",
       "      <td>27.399431</td>\n",
       "      <td>0.156394</td>\n",
       "      <td>61375</td>\n",
       "      <td>2.44</td>\n",
       "      <td>{'n_estimators': 61375, 'learning_rate': 2.44}</td>\n",
       "      <td>0.787879</td>\n",
       "      <td>0.801347</td>\n",
       "      <td>0.771044</td>\n",
       "      <td>0.786756</td>\n",
       "      <td>0.012397</td>\n",
       "      <td>2</td>\n",
       "    </tr>\n",
       "    <tr>\n",
       "      <td>28</td>\n",
       "      <td>160.601211</td>\n",
       "      <td>3.252053</td>\n",
       "      <td>29.812202</td>\n",
       "      <td>1.805590</td>\n",
       "      <td>45460</td>\n",
       "      <td>2.508</td>\n",
       "      <td>{'n_estimators': 45460, 'learning_rate': 2.508}</td>\n",
       "      <td>0.212121</td>\n",
       "      <td>0.198653</td>\n",
       "      <td>0.228956</td>\n",
       "      <td>0.213244</td>\n",
       "      <td>0.012397</td>\n",
       "      <td>37</td>\n",
       "    </tr>\n",
       "    <tr>\n",
       "      <td>29</td>\n",
       "      <td>250.767640</td>\n",
       "      <td>6.220062</td>\n",
       "      <td>37.357369</td>\n",
       "      <td>9.417882</td>\n",
       "      <td>68651</td>\n",
       "      <td>2.329</td>\n",
       "      <td>{'n_estimators': 68651, 'learning_rate': 2.329}</td>\n",
       "      <td>0.787879</td>\n",
       "      <td>0.801347</td>\n",
       "      <td>0.771044</td>\n",
       "      <td>0.786756</td>\n",
       "      <td>0.012397</td>\n",
       "      <td>2</td>\n",
       "    </tr>\n",
       "    <tr>\n",
       "      <td>30</td>\n",
       "      <td>166.765117</td>\n",
       "      <td>3.282062</td>\n",
       "      <td>23.940949</td>\n",
       "      <td>3.147738</td>\n",
       "      <td>46681</td>\n",
       "      <td>4.795</td>\n",
       "      <td>{'n_estimators': 46681, 'learning_rate': 4.795}</td>\n",
       "      <td>0.787879</td>\n",
       "      <td>0.801347</td>\n",
       "      <td>0.771044</td>\n",
       "      <td>0.786756</td>\n",
       "      <td>0.012397</td>\n",
       "      <td>2</td>\n",
       "    </tr>\n",
       "    <tr>\n",
       "      <td>31</td>\n",
       "      <td>88.035654</td>\n",
       "      <td>1.391106</td>\n",
       "      <td>12.491781</td>\n",
       "      <td>0.706778</td>\n",
       "      <td>28085</td>\n",
       "      <td>1.063</td>\n",
       "      <td>{'n_estimators': 28085, 'learning_rate': 1.063}</td>\n",
       "      <td>0.737374</td>\n",
       "      <td>0.727273</td>\n",
       "      <td>0.760943</td>\n",
       "      <td>0.741863</td>\n",
       "      <td>0.014108</td>\n",
       "      <td>27</td>\n",
       "    </tr>\n",
       "    <tr>\n",
       "      <td>32</td>\n",
       "      <td>178.604720</td>\n",
       "      <td>6.635830</td>\n",
       "      <td>24.889050</td>\n",
       "      <td>4.707950</td>\n",
       "      <td>49564</td>\n",
       "      <td>0.303</td>\n",
       "      <td>{'n_estimators': 49564, 'learning_rate': 0.303}</td>\n",
       "      <td>0.757576</td>\n",
       "      <td>0.771044</td>\n",
       "      <td>0.797980</td>\n",
       "      <td>0.775533</td>\n",
       "      <td>0.016798</td>\n",
       "      <td>22</td>\n",
       "    </tr>\n",
       "    <tr>\n",
       "      <td>33</td>\n",
       "      <td>280.168053</td>\n",
       "      <td>1.440668</td>\n",
       "      <td>35.171519</td>\n",
       "      <td>0.248046</td>\n",
       "      <td>77003</td>\n",
       "      <td>2.445</td>\n",
       "      <td>{'n_estimators': 77003, 'learning_rate': 2.445}</td>\n",
       "      <td>0.787879</td>\n",
       "      <td>0.801347</td>\n",
       "      <td>0.771044</td>\n",
       "      <td>0.786756</td>\n",
       "      <td>0.012397</td>\n",
       "      <td>2</td>\n",
       "    </tr>\n",
       "    <tr>\n",
       "      <td>34</td>\n",
       "      <td>190.537174</td>\n",
       "      <td>6.748970</td>\n",
       "      <td>29.360364</td>\n",
       "      <td>6.215174</td>\n",
       "      <td>52376</td>\n",
       "      <td>0.99</td>\n",
       "      <td>{'n_estimators': 52376, 'learning_rate': 0.99}</td>\n",
       "      <td>0.723906</td>\n",
       "      <td>0.727273</td>\n",
       "      <td>0.754209</td>\n",
       "      <td>0.735129</td>\n",
       "      <td>0.013561</td>\n",
       "      <td>30</td>\n",
       "    </tr>\n",
       "    <tr>\n",
       "      <td>35</td>\n",
       "      <td>279.884230</td>\n",
       "      <td>0.966970</td>\n",
       "      <td>35.694881</td>\n",
       "      <td>0.771670</td>\n",
       "      <td>77808</td>\n",
       "      <td>1.77</td>\n",
       "      <td>{'n_estimators': 77808, 'learning_rate': 1.77}</td>\n",
       "      <td>0.713805</td>\n",
       "      <td>0.707071</td>\n",
       "      <td>0.713805</td>\n",
       "      <td>0.711560</td>\n",
       "      <td>0.003174</td>\n",
       "      <td>36</td>\n",
       "    </tr>\n",
       "    <tr>\n",
       "      <td>36</td>\n",
       "      <td>19.434749</td>\n",
       "      <td>0.159923</td>\n",
       "      <td>2.275113</td>\n",
       "      <td>0.018084</td>\n",
       "      <td>6362</td>\n",
       "      <td>1.064</td>\n",
       "      <td>{'n_estimators': 6362, 'learning_rate': 1.064}</td>\n",
       "      <td>0.754209</td>\n",
       "      <td>0.781145</td>\n",
       "      <td>0.797980</td>\n",
       "      <td>0.777778</td>\n",
       "      <td>0.018027</td>\n",
       "      <td>20</td>\n",
       "    </tr>\n",
       "    <tr>\n",
       "      <td>37</td>\n",
       "      <td>13.833416</td>\n",
       "      <td>0.055365</td>\n",
       "      <td>1.624149</td>\n",
       "      <td>0.008774</td>\n",
       "      <td>4538</td>\n",
       "      <td>4.804</td>\n",
       "      <td>{'n_estimators': 4538, 'learning_rate': 4.804}</td>\n",
       "      <td>0.212121</td>\n",
       "      <td>0.198653</td>\n",
       "      <td>0.228956</td>\n",
       "      <td>0.213244</td>\n",
       "      <td>0.012397</td>\n",
       "      <td>37</td>\n",
       "    </tr>\n",
       "    <tr>\n",
       "      <td>38</td>\n",
       "      <td>281.332492</td>\n",
       "      <td>2.445031</td>\n",
       "      <td>34.131825</td>\n",
       "      <td>1.007492</td>\n",
       "      <td>77086</td>\n",
       "      <td>1.067</td>\n",
       "      <td>{'n_estimators': 77086, 'learning_rate': 1.067}</td>\n",
       "      <td>0.720539</td>\n",
       "      <td>0.713805</td>\n",
       "      <td>0.747475</td>\n",
       "      <td>0.727273</td>\n",
       "      <td>0.014547</td>\n",
       "      <td>32</td>\n",
       "    </tr>\n",
       "    <tr>\n",
       "      <td>39</td>\n",
       "      <td>182.338007</td>\n",
       "      <td>2.933753</td>\n",
       "      <td>26.152848</td>\n",
       "      <td>4.502679</td>\n",
       "      <td>50665</td>\n",
       "      <td>0.622</td>\n",
       "      <td>{'n_estimators': 50665, 'learning_rate': 0.622}</td>\n",
       "      <td>0.740741</td>\n",
       "      <td>0.734007</td>\n",
       "      <td>0.771044</td>\n",
       "      <td>0.748597</td>\n",
       "      <td>0.016109</td>\n",
       "      <td>25</td>\n",
       "    </tr>\n",
       "    <tr>\n",
       "      <td>40</td>\n",
       "      <td>86.890815</td>\n",
       "      <td>1.013022</td>\n",
       "      <td>12.134634</td>\n",
       "      <td>0.668938</td>\n",
       "      <td>27519</td>\n",
       "      <td>2.004</td>\n",
       "      <td>{'n_estimators': 27519, 'learning_rate': 2.004}</td>\n",
       "      <td>0.787879</td>\n",
       "      <td>0.801347</td>\n",
       "      <td>0.771044</td>\n",
       "      <td>0.786756</td>\n",
       "      <td>0.012397</td>\n",
       "      <td>2</td>\n",
       "    </tr>\n",
       "    <tr>\n",
       "      <td>41</td>\n",
       "      <td>30.420096</td>\n",
       "      <td>0.138888</td>\n",
       "      <td>3.581088</td>\n",
       "      <td>0.030024</td>\n",
       "      <td>9883</td>\n",
       "      <td>1.81</td>\n",
       "      <td>{'n_estimators': 9883, 'learning_rate': 1.81}</td>\n",
       "      <td>0.720539</td>\n",
       "      <td>0.710438</td>\n",
       "      <td>0.744108</td>\n",
       "      <td>0.725028</td>\n",
       "      <td>0.014108</td>\n",
       "      <td>33</td>\n",
       "    </tr>\n",
       "    <tr>\n",
       "      <td>42</td>\n",
       "      <td>188.548980</td>\n",
       "      <td>1.732556</td>\n",
       "      <td>32.629359</td>\n",
       "      <td>3.316193</td>\n",
       "      <td>51739</td>\n",
       "      <td>4.241</td>\n",
       "      <td>{'n_estimators': 51739, 'learning_rate': 4.241}</td>\n",
       "      <td>0.787879</td>\n",
       "      <td>0.801347</td>\n",
       "      <td>0.771044</td>\n",
       "      <td>0.786756</td>\n",
       "      <td>0.012397</td>\n",
       "      <td>2</td>\n",
       "    </tr>\n",
       "    <tr>\n",
       "      <td>43</td>\n",
       "      <td>265.116862</td>\n",
       "      <td>9.982094</td>\n",
       "      <td>40.117082</td>\n",
       "      <td>5.226142</td>\n",
       "      <td>70319</td>\n",
       "      <td>4.997</td>\n",
       "      <td>{'n_estimators': 70319, 'learning_rate': 4.997}</td>\n",
       "      <td>0.787879</td>\n",
       "      <td>0.801347</td>\n",
       "      <td>0.771044</td>\n",
       "      <td>0.786756</td>\n",
       "      <td>0.012397</td>\n",
       "      <td>2</td>\n",
       "    </tr>\n",
       "    <tr>\n",
       "      <td>44</td>\n",
       "      <td>272.515542</td>\n",
       "      <td>8.116242</td>\n",
       "      <td>34.079555</td>\n",
       "      <td>0.681801</td>\n",
       "      <td>74382</td>\n",
       "      <td>4.628</td>\n",
       "      <td>{'n_estimators': 74382, 'learning_rate': 4.628}</td>\n",
       "      <td>0.212121</td>\n",
       "      <td>0.198653</td>\n",
       "      <td>0.228956</td>\n",
       "      <td>0.213244</td>\n",
       "      <td>0.012397</td>\n",
       "      <td>37</td>\n",
       "    </tr>\n",
       "    <tr>\n",
       "      <td>45</td>\n",
       "      <td>341.442257</td>\n",
       "      <td>8.336009</td>\n",
       "      <td>41.914595</td>\n",
       "      <td>1.758742</td>\n",
       "      <td>92957</td>\n",
       "      <td>3.481</td>\n",
       "      <td>{'n_estimators': 92957, 'learning_rate': 3.481}</td>\n",
       "      <td>0.787879</td>\n",
       "      <td>0.801347</td>\n",
       "      <td>0.771044</td>\n",
       "      <td>0.786756</td>\n",
       "      <td>0.012397</td>\n",
       "      <td>2</td>\n",
       "    </tr>\n",
       "    <tr>\n",
       "      <td>46</td>\n",
       "      <td>186.002043</td>\n",
       "      <td>2.214454</td>\n",
       "      <td>23.813462</td>\n",
       "      <td>0.950218</td>\n",
       "      <td>51677</td>\n",
       "      <td>3.891</td>\n",
       "      <td>{'n_estimators': 51677, 'learning_rate': 3.891}</td>\n",
       "      <td>0.787879</td>\n",
       "      <td>0.801347</td>\n",
       "      <td>0.771044</td>\n",
       "      <td>0.786756</td>\n",
       "      <td>0.012397</td>\n",
       "      <td>2</td>\n",
       "    </tr>\n",
       "    <tr>\n",
       "      <td>47</td>\n",
       "      <td>295.125771</td>\n",
       "      <td>7.770651</td>\n",
       "      <td>36.371510</td>\n",
       "      <td>0.559207</td>\n",
       "      <td>79598</td>\n",
       "      <td>1.51</td>\n",
       "      <td>{'n_estimators': 79598, 'learning_rate': 1.51}</td>\n",
       "      <td>0.713805</td>\n",
       "      <td>0.703704</td>\n",
       "      <td>0.734007</td>\n",
       "      <td>0.717172</td>\n",
       "      <td>0.012598</td>\n",
       "      <td>35</td>\n",
       "    </tr>\n",
       "    <tr>\n",
       "      <td>48</td>\n",
       "      <td>66.135325</td>\n",
       "      <td>0.074961</td>\n",
       "      <td>7.799952</td>\n",
       "      <td>0.041417</td>\n",
       "      <td>21458</td>\n",
       "      <td>3.207</td>\n",
       "      <td>{'n_estimators': 21458, 'learning_rate': 3.207}</td>\n",
       "      <td>0.212121</td>\n",
       "      <td>0.198653</td>\n",
       "      <td>0.228956</td>\n",
       "      <td>0.213244</td>\n",
       "      <td>0.012397</td>\n",
       "      <td>37</td>\n",
       "    </tr>\n",
       "    <tr>\n",
       "      <td>49</td>\n",
       "      <td>164.663273</td>\n",
       "      <td>6.040437</td>\n",
       "      <td>22.576168</td>\n",
       "      <td>6.050716</td>\n",
       "      <td>49003</td>\n",
       "      <td>0.32</td>\n",
       "      <td>{'n_estimators': 49003, 'learning_rate': 0.32}</td>\n",
       "      <td>0.757576</td>\n",
       "      <td>0.771044</td>\n",
       "      <td>0.797980</td>\n",
       "      <td>0.775533</td>\n",
       "      <td>0.016798</td>\n",
       "      <td>22</td>\n",
       "    </tr>\n",
       "  </tbody>\n",
       "</table>\n",
       "</div>"
      ],
      "text/plain": [
       "    mean_fit_time  std_fit_time  mean_score_time  std_score_time  \\\n",
       "0        1.592885      0.045811         0.269034        0.009062   \n",
       "1      380.050103      2.899755        44.946432        0.837600   \n",
       "2      314.846203      9.802341        34.074121        2.225607   \n",
       "3      128.336178      7.908279        17.696191        1.176681   \n",
       "4       67.737599      0.257207         8.007691        0.064272   \n",
       "5      117.028183      2.975457        21.449737        3.666487   \n",
       "6      265.727220      4.260712        29.581869        0.567555   \n",
       "7       78.519372      6.708443         8.856327        0.169287   \n",
       "8       77.832127      0.952894        10.669935        2.230680   \n",
       "9       64.946261      1.500199         7.592053        0.071572   \n",
       "10     326.383943      7.320178        40.760447        0.434857   \n",
       "11     248.384228      4.793631        31.019371        0.272508   \n",
       "12     165.861738      2.943000        25.599389        2.923963   \n",
       "13     275.186591      3.185759        31.246867        1.240413   \n",
       "14      79.736791      0.501025        10.849670        1.787714   \n",
       "15     322.460172     12.897540        37.769988        1.769298   \n",
       "16     127.674596      2.337039        22.354923        1.255538   \n",
       "17     349.575959      4.579344        43.093162        0.364060   \n",
       "18     331.651979      5.488187        39.411302        1.391345   \n",
       "19      29.798531      0.147133         3.588997        0.037579   \n",
       "20     331.451397      9.762823        43.347763        6.964307   \n",
       "21     112.466787      0.795201        18.579938        4.282802   \n",
       "22      20.181387      0.125732         2.397132        0.057454   \n",
       "23     337.843971     16.529699        37.705118        2.980596   \n",
       "24     201.865321      3.870799        29.821106        6.232062   \n",
       "25      57.351806      0.304983         6.765153        0.069658   \n",
       "26     156.256532      2.459221        26.353187        2.884029   \n",
       "27     229.353992      2.326490        27.399431        0.156394   \n",
       "28     160.601211      3.252053        29.812202        1.805590   \n",
       "29     250.767640      6.220062        37.357369        9.417882   \n",
       "30     166.765117      3.282062        23.940949        3.147738   \n",
       "31      88.035654      1.391106        12.491781        0.706778   \n",
       "32     178.604720      6.635830        24.889050        4.707950   \n",
       "33     280.168053      1.440668        35.171519        0.248046   \n",
       "34     190.537174      6.748970        29.360364        6.215174   \n",
       "35     279.884230      0.966970        35.694881        0.771670   \n",
       "36      19.434749      0.159923         2.275113        0.018084   \n",
       "37      13.833416      0.055365         1.624149        0.008774   \n",
       "38     281.332492      2.445031        34.131825        1.007492   \n",
       "39     182.338007      2.933753        26.152848        4.502679   \n",
       "40      86.890815      1.013022        12.134634        0.668938   \n",
       "41      30.420096      0.138888         3.581088        0.030024   \n",
       "42     188.548980      1.732556        32.629359        3.316193   \n",
       "43     265.116862      9.982094        40.117082        5.226142   \n",
       "44     272.515542      8.116242        34.079555        0.681801   \n",
       "45     341.442257      8.336009        41.914595        1.758742   \n",
       "46     186.002043      2.214454        23.813462        0.950218   \n",
       "47     295.125771      7.770651        36.371510        0.559207   \n",
       "48      66.135325      0.074961         7.799952        0.041417   \n",
       "49     164.663273      6.040437        22.576168        6.050716   \n",
       "\n",
       "   param_n_estimators param_learning_rate  \\\n",
       "0                 595               1.999   \n",
       "1               90492               3.251   \n",
       "2               75502               2.509   \n",
       "3               35466               4.595   \n",
       "4               21863               1.275   \n",
       "5               34972               4.237   \n",
       "6               68276               4.159   \n",
       "7               24038               1.332   \n",
       "8               24377               3.042   \n",
       "9               20466               1.331   \n",
       "10              89014               4.293   \n",
       "11              67210               2.494   \n",
       "12              46218               3.618   \n",
       "13              72759               4.989   \n",
       "14              25748               3.595   \n",
       "15              85667               4.342   \n",
       "16              37383               0.767   \n",
       "17              94007               3.567   \n",
       "18              90146               1.111   \n",
       "19               9749               0.884   \n",
       "20              85876               2.422   \n",
       "21              34689               4.076   \n",
       "22               6551               4.166   \n",
       "23              88427                3.54   \n",
       "24              56829               2.729   \n",
       "25              18629               3.751   \n",
       "26              44769               0.033   \n",
       "27              61375                2.44   \n",
       "28              45460               2.508   \n",
       "29              68651               2.329   \n",
       "30              46681               4.795   \n",
       "31              28085               1.063   \n",
       "32              49564               0.303   \n",
       "33              77003               2.445   \n",
       "34              52376                0.99   \n",
       "35              77808                1.77   \n",
       "36               6362               1.064   \n",
       "37               4538               4.804   \n",
       "38              77086               1.067   \n",
       "39              50665               0.622   \n",
       "40              27519               2.004   \n",
       "41               9883                1.81   \n",
       "42              51739               4.241   \n",
       "43              70319               4.997   \n",
       "44              74382               4.628   \n",
       "45              92957               3.481   \n",
       "46              51677               3.891   \n",
       "47              79598                1.51   \n",
       "48              21458               3.207   \n",
       "49              49003                0.32   \n",
       "\n",
       "                                               params  split0_test_score  \\\n",
       "0       {'n_estimators': 595, 'learning_rate': 1.999}           0.787879   \n",
       "1     {'n_estimators': 90492, 'learning_rate': 3.251}           0.212121   \n",
       "2     {'n_estimators': 75502, 'learning_rate': 2.509}           0.212121   \n",
       "3     {'n_estimators': 35466, 'learning_rate': 4.595}           0.212121   \n",
       "4   {'n_estimators': 21863, 'learning_rate': 1.275...           0.734007   \n",
       "5     {'n_estimators': 34972, 'learning_rate': 4.237}           0.212121   \n",
       "6     {'n_estimators': 68276, 'learning_rate': 4.159}           0.212121   \n",
       "7     {'n_estimators': 24038, 'learning_rate': 1.332}           0.727273   \n",
       "8   {'n_estimators': 24377, 'learning_rate': 3.042...           0.787879   \n",
       "9     {'n_estimators': 20466, 'learning_rate': 1.331}           0.727273   \n",
       "10    {'n_estimators': 89014, 'learning_rate': 4.293}           0.212121   \n",
       "11    {'n_estimators': 67210, 'learning_rate': 2.494}           0.212121   \n",
       "12    {'n_estimators': 46218, 'learning_rate': 3.618}           0.212121   \n",
       "13    {'n_estimators': 72759, 'learning_rate': 4.989}           0.787879   \n",
       "14    {'n_estimators': 25748, 'learning_rate': 3.595}           0.212121   \n",
       "15  {'n_estimators': 85667, 'learning_rate': 4.342...           0.787879   \n",
       "16    {'n_estimators': 37383, 'learning_rate': 0.767}           0.737374   \n",
       "17    {'n_estimators': 94007, 'learning_rate': 3.567}           0.787879   \n",
       "18    {'n_estimators': 90146, 'learning_rate': 1.111}           0.713805   \n",
       "19     {'n_estimators': 9749, 'learning_rate': 0.884}           0.750842   \n",
       "20    {'n_estimators': 85876, 'learning_rate': 2.422}           0.212121   \n",
       "21  {'n_estimators': 34689, 'learning_rate': 4.076...           0.787879   \n",
       "22     {'n_estimators': 6551, 'learning_rate': 4.166}           0.787879   \n",
       "23     {'n_estimators': 88427, 'learning_rate': 3.54}           0.787879   \n",
       "24    {'n_estimators': 56829, 'learning_rate': 2.729}           0.787879   \n",
       "25    {'n_estimators': 18629, 'learning_rate': 3.751}           0.787879   \n",
       "26    {'n_estimators': 44769, 'learning_rate': 0.033}           0.774411   \n",
       "27     {'n_estimators': 61375, 'learning_rate': 2.44}           0.787879   \n",
       "28    {'n_estimators': 45460, 'learning_rate': 2.508}           0.212121   \n",
       "29    {'n_estimators': 68651, 'learning_rate': 2.329}           0.787879   \n",
       "30    {'n_estimators': 46681, 'learning_rate': 4.795}           0.787879   \n",
       "31    {'n_estimators': 28085, 'learning_rate': 1.063}           0.737374   \n",
       "32    {'n_estimators': 49564, 'learning_rate': 0.303}           0.757576   \n",
       "33    {'n_estimators': 77003, 'learning_rate': 2.445}           0.787879   \n",
       "34     {'n_estimators': 52376, 'learning_rate': 0.99}           0.723906   \n",
       "35     {'n_estimators': 77808, 'learning_rate': 1.77}           0.713805   \n",
       "36     {'n_estimators': 6362, 'learning_rate': 1.064}           0.754209   \n",
       "37     {'n_estimators': 4538, 'learning_rate': 4.804}           0.212121   \n",
       "38    {'n_estimators': 77086, 'learning_rate': 1.067}           0.720539   \n",
       "39    {'n_estimators': 50665, 'learning_rate': 0.622}           0.740741   \n",
       "40    {'n_estimators': 27519, 'learning_rate': 2.004}           0.787879   \n",
       "41      {'n_estimators': 9883, 'learning_rate': 1.81}           0.720539   \n",
       "42    {'n_estimators': 51739, 'learning_rate': 4.241}           0.787879   \n",
       "43    {'n_estimators': 70319, 'learning_rate': 4.997}           0.787879   \n",
       "44    {'n_estimators': 74382, 'learning_rate': 4.628}           0.212121   \n",
       "45    {'n_estimators': 92957, 'learning_rate': 3.481}           0.787879   \n",
       "46    {'n_estimators': 51677, 'learning_rate': 3.891}           0.787879   \n",
       "47     {'n_estimators': 79598, 'learning_rate': 1.51}           0.713805   \n",
       "48    {'n_estimators': 21458, 'learning_rate': 3.207}           0.212121   \n",
       "49     {'n_estimators': 49003, 'learning_rate': 0.32}           0.757576   \n",
       "\n",
       "    split1_test_score  split2_test_score  mean_test_score  std_test_score  \\\n",
       "0            0.747475           0.771044         0.768799        0.016571   \n",
       "1            0.198653           0.228956         0.213244        0.012397   \n",
       "2            0.198653           0.228956         0.213244        0.012397   \n",
       "3            0.198653           0.228956         0.213244        0.012397   \n",
       "4            0.727273           0.760943         0.740741        0.014547   \n",
       "5            0.198653           0.228956         0.213244        0.012397   \n",
       "6            0.198653           0.228956         0.213244        0.012397   \n",
       "7            0.720539           0.757576         0.735129        0.016109   \n",
       "8            0.801347           0.771044         0.786756        0.012397   \n",
       "9            0.720539           0.767677         0.738496        0.020816   \n",
       "10           0.198653           0.228956         0.213244        0.012397   \n",
       "11           0.198653           0.228956         0.213244        0.012397   \n",
       "12           0.198653           0.228956         0.213244        0.012397   \n",
       "13           0.801347           0.771044         0.786756        0.012397   \n",
       "14           0.198653           0.228956         0.213244        0.012397   \n",
       "15           0.801347           0.771044         0.786756        0.012397   \n",
       "16           0.734007           0.771044         0.747475        0.016722   \n",
       "17           0.801347           0.771044         0.786756        0.012397   \n",
       "18           0.710438           0.740741         0.721661        0.013561   \n",
       "19           0.777778           0.801347         0.776655        0.020634   \n",
       "20           0.198653           0.228956         0.213244        0.012397   \n",
       "21           0.801347           0.771044         0.786756        0.012397   \n",
       "22           0.801347           0.771044         0.786756        0.012397   \n",
       "23           0.801347           0.771044         0.786756        0.012397   \n",
       "24           0.801347           0.771044         0.786756        0.012397   \n",
       "25           0.801347           0.771044         0.786756        0.012397   \n",
       "26           0.818182           0.808081         0.800224        0.018713   \n",
       "27           0.801347           0.771044         0.786756        0.012397   \n",
       "28           0.198653           0.228956         0.213244        0.012397   \n",
       "29           0.801347           0.771044         0.786756        0.012397   \n",
       "30           0.801347           0.771044         0.786756        0.012397   \n",
       "31           0.727273           0.760943         0.741863        0.014108   \n",
       "32           0.771044           0.797980         0.775533        0.016798   \n",
       "33           0.801347           0.771044         0.786756        0.012397   \n",
       "34           0.727273           0.754209         0.735129        0.013561   \n",
       "35           0.707071           0.713805         0.711560        0.003174   \n",
       "36           0.781145           0.797980         0.777778        0.018027   \n",
       "37           0.198653           0.228956         0.213244        0.012397   \n",
       "38           0.713805           0.747475         0.727273        0.014547   \n",
       "39           0.734007           0.771044         0.748597        0.016109   \n",
       "40           0.801347           0.771044         0.786756        0.012397   \n",
       "41           0.710438           0.744108         0.725028        0.014108   \n",
       "42           0.801347           0.771044         0.786756        0.012397   \n",
       "43           0.801347           0.771044         0.786756        0.012397   \n",
       "44           0.198653           0.228956         0.213244        0.012397   \n",
       "45           0.801347           0.771044         0.786756        0.012397   \n",
       "46           0.801347           0.771044         0.786756        0.012397   \n",
       "47           0.703704           0.734007         0.717172        0.012598   \n",
       "48           0.198653           0.228956         0.213244        0.012397   \n",
       "49           0.771044           0.797980         0.775533        0.016798   \n",
       "\n",
       "    rank_test_score  \n",
       "0                24  \n",
       "1                37  \n",
       "2                37  \n",
       "3                37  \n",
       "4                28  \n",
       "5                37  \n",
       "6                37  \n",
       "7                30  \n",
       "8                 2  \n",
       "9                29  \n",
       "10               37  \n",
       "11               37  \n",
       "12               37  \n",
       "13                2  \n",
       "14               37  \n",
       "15                2  \n",
       "16               26  \n",
       "17                2  \n",
       "18               34  \n",
       "19               21  \n",
       "20               37  \n",
       "21                2  \n",
       "22                2  \n",
       "23                2  \n",
       "24                2  \n",
       "25                2  \n",
       "26                1  \n",
       "27                2  \n",
       "28               37  \n",
       "29                2  \n",
       "30                2  \n",
       "31               27  \n",
       "32               22  \n",
       "33                2  \n",
       "34               30  \n",
       "35               36  \n",
       "36               20  \n",
       "37               37  \n",
       "38               32  \n",
       "39               25  \n",
       "40                2  \n",
       "41               33  \n",
       "42                2  \n",
       "43                2  \n",
       "44               37  \n",
       "45                2  \n",
       "46                2  \n",
       "47               35  \n",
       "48               37  \n",
       "49               22  "
      ]
     },
     "execution_count": 153,
     "metadata": {},
     "output_type": "execute_result"
    }
   ],
   "source": [
    "pd.DataFrame(rnd_search.cv_results_)"
   ]
  },
  {
   "cell_type": "code",
   "execution_count": 150,
   "metadata": {
    "ExecuteTime": {
     "end_time": "2020-10-27T09:12:25.661679Z",
     "start_time": "2020-10-27T09:12:25.651049Z"
    }
   },
   "outputs": [
    {
     "data": {
      "text/plain": [
       "{'n_estimators': 44769, 'learning_rate': 0.033}"
      ]
     },
     "execution_count": 150,
     "metadata": {},
     "output_type": "execute_result"
    }
   ],
   "source": [
    "rnd_search.best_params_"
   ]
  },
  {
   "cell_type": "code",
   "execution_count": 151,
   "metadata": {
    "ExecuteTime": {
     "end_time": "2020-10-27T09:13:42.924453Z",
     "start_time": "2020-10-27T09:13:36.412502Z"
    }
   },
   "outputs": [
    {
     "name": "stdout",
     "output_type": "stream",
     "text": [
      "Submission file 'Submission_Ada_3.csv' saved.\n"
     ]
    }
   ],
   "source": [
    "prepare_submission(rnd_search.best_estimator_, \"Ada_3\", test, X_test)"
   ]
  },
  {
   "cell_type": "markdown",
   "metadata": {},
   "source": [
    "**Score is 0.72966, even worse than before the tuning.**"
   ]
  },
  {
   "cell_type": "markdown",
   "metadata": {},
   "source": [
    "---------"
   ]
  },
  {
   "cell_type": "markdown",
   "metadata": {},
   "source": [
    "## New transformations to improve the model."
   ]
  },
  {
   "cell_type": "markdown",
   "metadata": {},
   "source": [
    "**Will reimplement the prepare pipeline with added transformers:**\n",
    "- Combine sib och parch in a good way (maybe only sum)\n",
    "- Categorize age or fare?\n",
    "- Look into cabin --> only higher payers got a cabin number on their ticket?\n",
    "- Look into names --> any interesting prefix etc here to distinguish?\n",
    "- Why isnt SVC working with gridearchcv?\n",
    "- Combine features?"
   ]
  },
  {
   "cell_type": "code",
   "execution_count": 348,
   "metadata": {
    "ExecuteTime": {
     "end_time": "2020-10-27T16:23:54.219042Z",
     "start_time": "2020-10-27T16:23:54.192391Z"
    }
   },
   "outputs": [],
   "source": [
    "train_data = train.copy()\n",
    "test_data = test.copy()"
   ]
  },
  {
   "cell_type": "code",
   "execution_count": 349,
   "metadata": {
    "ExecuteTime": {
     "end_time": "2020-10-27T16:23:57.249952Z",
     "start_time": "2020-10-27T16:23:57.225598Z"
    },
    "scrolled": false
   },
   "outputs": [
    {
     "data": {
      "text/html": [
       "<div>\n",
       "<style scoped>\n",
       "    .dataframe tbody tr th:only-of-type {\n",
       "        vertical-align: middle;\n",
       "    }\n",
       "\n",
       "    .dataframe tbody tr th {\n",
       "        vertical-align: top;\n",
       "    }\n",
       "\n",
       "    .dataframe thead th {\n",
       "        text-align: right;\n",
       "    }\n",
       "</style>\n",
       "<table border=\"1\" class=\"dataframe\">\n",
       "  <thead>\n",
       "    <tr style=\"text-align: right;\">\n",
       "      <th></th>\n",
       "      <th>PassengerId</th>\n",
       "      <th>Survived</th>\n",
       "      <th>Pclass</th>\n",
       "      <th>Name</th>\n",
       "      <th>Sex</th>\n",
       "      <th>Age</th>\n",
       "      <th>SibSp</th>\n",
       "      <th>Parch</th>\n",
       "      <th>Ticket</th>\n",
       "      <th>Fare</th>\n",
       "      <th>Cabin</th>\n",
       "      <th>Embarked</th>\n",
       "    </tr>\n",
       "  </thead>\n",
       "  <tbody>\n",
       "    <tr>\n",
       "      <td>0</td>\n",
       "      <td>1</td>\n",
       "      <td>0</td>\n",
       "      <td>3</td>\n",
       "      <td>Braund, Mr. Owen Harris</td>\n",
       "      <td>male</td>\n",
       "      <td>22.0</td>\n",
       "      <td>1</td>\n",
       "      <td>0</td>\n",
       "      <td>A/5 21171</td>\n",
       "      <td>7.2500</td>\n",
       "      <td>NaN</td>\n",
       "      <td>S</td>\n",
       "    </tr>\n",
       "    <tr>\n",
       "      <td>1</td>\n",
       "      <td>2</td>\n",
       "      <td>1</td>\n",
       "      <td>1</td>\n",
       "      <td>Cumings, Mrs. John Bradley (Florence Briggs Th...</td>\n",
       "      <td>female</td>\n",
       "      <td>38.0</td>\n",
       "      <td>1</td>\n",
       "      <td>0</td>\n",
       "      <td>PC 17599</td>\n",
       "      <td>71.2833</td>\n",
       "      <td>C85</td>\n",
       "      <td>C</td>\n",
       "    </tr>\n",
       "    <tr>\n",
       "      <td>2</td>\n",
       "      <td>3</td>\n",
       "      <td>1</td>\n",
       "      <td>3</td>\n",
       "      <td>Heikkinen, Miss. Laina</td>\n",
       "      <td>female</td>\n",
       "      <td>26.0</td>\n",
       "      <td>0</td>\n",
       "      <td>0</td>\n",
       "      <td>STON/O2. 3101282</td>\n",
       "      <td>7.9250</td>\n",
       "      <td>NaN</td>\n",
       "      <td>S</td>\n",
       "    </tr>\n",
       "    <tr>\n",
       "      <td>3</td>\n",
       "      <td>4</td>\n",
       "      <td>1</td>\n",
       "      <td>1</td>\n",
       "      <td>Futrelle, Mrs. Jacques Heath (Lily May Peel)</td>\n",
       "      <td>female</td>\n",
       "      <td>35.0</td>\n",
       "      <td>1</td>\n",
       "      <td>0</td>\n",
       "      <td>113803</td>\n",
       "      <td>53.1000</td>\n",
       "      <td>C123</td>\n",
       "      <td>S</td>\n",
       "    </tr>\n",
       "    <tr>\n",
       "      <td>4</td>\n",
       "      <td>5</td>\n",
       "      <td>0</td>\n",
       "      <td>3</td>\n",
       "      <td>Allen, Mr. William Henry</td>\n",
       "      <td>male</td>\n",
       "      <td>35.0</td>\n",
       "      <td>0</td>\n",
       "      <td>0</td>\n",
       "      <td>373450</td>\n",
       "      <td>8.0500</td>\n",
       "      <td>NaN</td>\n",
       "      <td>S</td>\n",
       "    </tr>\n",
       "  </tbody>\n",
       "</table>\n",
       "</div>"
      ],
      "text/plain": [
       "   PassengerId  Survived  Pclass  \\\n",
       "0            1         0       3   \n",
       "1            2         1       1   \n",
       "2            3         1       3   \n",
       "3            4         1       1   \n",
       "4            5         0       3   \n",
       "\n",
       "                                                Name     Sex   Age  SibSp  \\\n",
       "0                            Braund, Mr. Owen Harris    male  22.0      1   \n",
       "1  Cumings, Mrs. John Bradley (Florence Briggs Th...  female  38.0      1   \n",
       "2                             Heikkinen, Miss. Laina  female  26.0      0   \n",
       "3       Futrelle, Mrs. Jacques Heath (Lily May Peel)  female  35.0      1   \n",
       "4                           Allen, Mr. William Henry    male  35.0      0   \n",
       "\n",
       "   Parch            Ticket     Fare Cabin Embarked  \n",
       "0      0         A/5 21171   7.2500   NaN        S  \n",
       "1      0          PC 17599  71.2833   C85        C  \n",
       "2      0  STON/O2. 3101282   7.9250   NaN        S  \n",
       "3      0            113803  53.1000  C123        S  \n",
       "4      0            373450   8.0500   NaN        S  "
      ]
     },
     "execution_count": 349,
     "metadata": {},
     "output_type": "execute_result"
    }
   ],
   "source": [
    "train_data.head()"
   ]
  },
  {
   "cell_type": "code",
   "execution_count": 350,
   "metadata": {
    "ExecuteTime": {
     "end_time": "2020-10-27T16:24:00.778394Z",
     "start_time": "2020-10-27T16:24:00.751200Z"
    },
    "scrolled": false
   },
   "outputs": [
    {
     "data": {
      "text/html": [
       "<div>\n",
       "<style scoped>\n",
       "    .dataframe tbody tr th:only-of-type {\n",
       "        vertical-align: middle;\n",
       "    }\n",
       "\n",
       "    .dataframe tbody tr th {\n",
       "        vertical-align: top;\n",
       "    }\n",
       "\n",
       "    .dataframe thead th {\n",
       "        text-align: right;\n",
       "    }\n",
       "</style>\n",
       "<table border=\"1\" class=\"dataframe\">\n",
       "  <thead>\n",
       "    <tr style=\"text-align: right;\">\n",
       "      <th></th>\n",
       "      <th>PassengerId</th>\n",
       "      <th>Pclass</th>\n",
       "      <th>Name</th>\n",
       "      <th>Sex</th>\n",
       "      <th>Age</th>\n",
       "      <th>SibSp</th>\n",
       "      <th>Parch</th>\n",
       "      <th>Ticket</th>\n",
       "      <th>Fare</th>\n",
       "      <th>Cabin</th>\n",
       "      <th>Embarked</th>\n",
       "      <th>Title</th>\n",
       "    </tr>\n",
       "  </thead>\n",
       "  <tbody>\n",
       "    <tr>\n",
       "      <td>0</td>\n",
       "      <td>892</td>\n",
       "      <td>3</td>\n",
       "      <td>Kelly, Mr. James</td>\n",
       "      <td>male</td>\n",
       "      <td>34.5</td>\n",
       "      <td>0</td>\n",
       "      <td>0</td>\n",
       "      <td>330911</td>\n",
       "      <td>7.8292</td>\n",
       "      <td>NaN</td>\n",
       "      <td>Q</td>\n",
       "      <td>Mr.</td>\n",
       "    </tr>\n",
       "    <tr>\n",
       "      <td>1</td>\n",
       "      <td>893</td>\n",
       "      <td>3</td>\n",
       "      <td>Wilkes, Mrs. James (Ellen Needs)</td>\n",
       "      <td>female</td>\n",
       "      <td>47.0</td>\n",
       "      <td>1</td>\n",
       "      <td>0</td>\n",
       "      <td>363272</td>\n",
       "      <td>7.0000</td>\n",
       "      <td>NaN</td>\n",
       "      <td>S</td>\n",
       "      <td>Mrs.</td>\n",
       "    </tr>\n",
       "    <tr>\n",
       "      <td>2</td>\n",
       "      <td>894</td>\n",
       "      <td>2</td>\n",
       "      <td>Myles, Mr. Thomas Francis</td>\n",
       "      <td>male</td>\n",
       "      <td>62.0</td>\n",
       "      <td>0</td>\n",
       "      <td>0</td>\n",
       "      <td>240276</td>\n",
       "      <td>9.6875</td>\n",
       "      <td>NaN</td>\n",
       "      <td>Q</td>\n",
       "      <td>Mr.</td>\n",
       "    </tr>\n",
       "    <tr>\n",
       "      <td>3</td>\n",
       "      <td>895</td>\n",
       "      <td>3</td>\n",
       "      <td>Wirz, Mr. Albert</td>\n",
       "      <td>male</td>\n",
       "      <td>27.0</td>\n",
       "      <td>0</td>\n",
       "      <td>0</td>\n",
       "      <td>315154</td>\n",
       "      <td>8.6625</td>\n",
       "      <td>NaN</td>\n",
       "      <td>S</td>\n",
       "      <td>Mr.</td>\n",
       "    </tr>\n",
       "    <tr>\n",
       "      <td>4</td>\n",
       "      <td>896</td>\n",
       "      <td>3</td>\n",
       "      <td>Hirvonen, Mrs. Alexander (Helga E Lindqvist)</td>\n",
       "      <td>female</td>\n",
       "      <td>22.0</td>\n",
       "      <td>1</td>\n",
       "      <td>1</td>\n",
       "      <td>3101298</td>\n",
       "      <td>12.2875</td>\n",
       "      <td>NaN</td>\n",
       "      <td>S</td>\n",
       "      <td>Mrs.</td>\n",
       "    </tr>\n",
       "  </tbody>\n",
       "</table>\n",
       "</div>"
      ],
      "text/plain": [
       "   PassengerId  Pclass                                          Name     Sex  \\\n",
       "0          892       3                              Kelly, Mr. James    male   \n",
       "1          893       3              Wilkes, Mrs. James (Ellen Needs)  female   \n",
       "2          894       2                     Myles, Mr. Thomas Francis    male   \n",
       "3          895       3                              Wirz, Mr. Albert    male   \n",
       "4          896       3  Hirvonen, Mrs. Alexander (Helga E Lindqvist)  female   \n",
       "\n",
       "    Age  SibSp  Parch   Ticket     Fare Cabin Embarked Title  \n",
       "0  34.5      0      0   330911   7.8292   NaN        Q   Mr.  \n",
       "1  47.0      1      0   363272   7.0000   NaN        S  Mrs.  \n",
       "2  62.0      0      0   240276   9.6875   NaN        Q   Mr.  \n",
       "3  27.0      0      0   315154   8.6625   NaN        S   Mr.  \n",
       "4  22.0      1      1  3101298  12.2875   NaN        S  Mrs.  "
      ]
     },
     "execution_count": 350,
     "metadata": {},
     "output_type": "execute_result"
    }
   ],
   "source": [
    "test_data.head()"
   ]
  },
  {
   "cell_type": "markdown",
   "metadata": {},
   "source": [
    "### Extracting Titles from Names"
   ]
  },
  {
   "cell_type": "code",
   "execution_count": 352,
   "metadata": {
    "ExecuteTime": {
     "end_time": "2020-10-27T16:25:36.175208Z",
     "start_time": "2020-10-27T16:25:36.164708Z"
    }
   },
   "outputs": [
    {
     "data": {
      "text/plain": [
       "0                               Braund, Mr. Owen Harris\n",
       "1     Cumings, Mrs. John Bradley (Florence Briggs Th...\n",
       "2                                Heikkinen, Miss. Laina\n",
       "3          Futrelle, Mrs. Jacques Heath (Lily May Peel)\n",
       "4                              Allen, Mr. William Henry\n",
       "5                                      Moran, Mr. James\n",
       "6                               McCarthy, Mr. Timothy J\n",
       "7                        Palsson, Master. Gosta Leonard\n",
       "8     Johnson, Mrs. Oscar W (Elisabeth Vilhelmina Berg)\n",
       "9                   Nasser, Mrs. Nicholas (Adele Achem)\n",
       "10                      Sandstrom, Miss. Marguerite Rut\n",
       "11                             Bonnell, Miss. Elizabeth\n",
       "12                       Saundercock, Mr. William Henry\n",
       "13                          Andersson, Mr. Anders Johan\n",
       "14                 Vestrom, Miss. Hulda Amanda Adolfina\n",
       "15                     Hewlett, Mrs. (Mary D Kingcome) \n",
       "16                                 Rice, Master. Eugene\n",
       "17                         Williams, Mr. Charles Eugene\n",
       "18    Vander Planke, Mrs. Julius (Emelia Maria Vande...\n",
       "19                              Masselmani, Mrs. Fatima\n",
       "Name: Name, dtype: object"
      ]
     },
     "execution_count": 352,
     "metadata": {},
     "output_type": "execute_result"
    }
   ],
   "source": [
    "train_data[\"Name\"].iloc[:20]"
   ]
  },
  {
   "cell_type": "code",
   "execution_count": 334,
   "metadata": {
    "ExecuteTime": {
     "end_time": "2020-10-27T15:24:02.645950Z",
     "start_time": "2020-10-27T15:24:02.634966Z"
    }
   },
   "outputs": [],
   "source": [
    "class extract_titles(BaseEstimator, TransformerMixin):\n",
    "    def __init__(self, status=True):\n",
    "        self.status = status\n",
    "    def fit(self, X, y=None):\n",
    "        return self\n",
    "    def extract_title(self, name):\n",
    "        split_name = str.split(name, \" \")\n",
    "        for word in split_name:\n",
    "            if word[-1] == \".\":\n",
    "                if word not in [\"Mr.\", \"Mrs.\", \"Miss.\", \"Master.\"]:\n",
    "                    word = \"Other\"\n",
    "                return word\n",
    "            else:\n",
    "                pass\n",
    "    def transform(self, X):\n",
    "        if self.status:\n",
    "            X[\"Title\"] = X.copy()[\"Name\"].apply(lambda x: self.extract_title(x))\n",
    "            return X\n",
    "        else:\n",
    "            return X.copy()"
   ]
  },
  {
   "cell_type": "code",
   "execution_count": 341,
   "metadata": {
    "ExecuteTime": {
     "end_time": "2020-10-27T15:25:04.089491Z",
     "start_time": "2020-10-27T15:25:04.054858Z"
    }
   },
   "outputs": [
    {
     "data": {
      "text/html": [
       "<div>\n",
       "<style scoped>\n",
       "    .dataframe tbody tr th:only-of-type {\n",
       "        vertical-align: middle;\n",
       "    }\n",
       "\n",
       "    .dataframe tbody tr th {\n",
       "        vertical-align: top;\n",
       "    }\n",
       "\n",
       "    .dataframe thead th {\n",
       "        text-align: right;\n",
       "    }\n",
       "</style>\n",
       "<table border=\"1\" class=\"dataframe\">\n",
       "  <thead>\n",
       "    <tr style=\"text-align: right;\">\n",
       "      <th></th>\n",
       "      <th>PassengerId</th>\n",
       "      <th>Survived</th>\n",
       "      <th>Pclass</th>\n",
       "      <th>Name</th>\n",
       "      <th>Sex</th>\n",
       "      <th>Age</th>\n",
       "      <th>SibSp</th>\n",
       "      <th>Parch</th>\n",
       "      <th>Ticket</th>\n",
       "      <th>Fare</th>\n",
       "      <th>Cabin</th>\n",
       "      <th>Embarked</th>\n",
       "    </tr>\n",
       "  </thead>\n",
       "  <tbody>\n",
       "    <tr>\n",
       "      <td>0</td>\n",
       "      <td>1</td>\n",
       "      <td>0</td>\n",
       "      <td>3</td>\n",
       "      <td>Braund, Mr. Owen Harris</td>\n",
       "      <td>male</td>\n",
       "      <td>22.0</td>\n",
       "      <td>1</td>\n",
       "      <td>0</td>\n",
       "      <td>A/5 21171</td>\n",
       "      <td>7.2500</td>\n",
       "      <td>NaN</td>\n",
       "      <td>S</td>\n",
       "    </tr>\n",
       "    <tr>\n",
       "      <td>1</td>\n",
       "      <td>2</td>\n",
       "      <td>1</td>\n",
       "      <td>1</td>\n",
       "      <td>Cumings, Mrs. John Bradley (Florence Briggs Th...</td>\n",
       "      <td>female</td>\n",
       "      <td>38.0</td>\n",
       "      <td>1</td>\n",
       "      <td>0</td>\n",
       "      <td>PC 17599</td>\n",
       "      <td>71.2833</td>\n",
       "      <td>C85</td>\n",
       "      <td>C</td>\n",
       "    </tr>\n",
       "    <tr>\n",
       "      <td>2</td>\n",
       "      <td>3</td>\n",
       "      <td>1</td>\n",
       "      <td>3</td>\n",
       "      <td>Heikkinen, Miss. Laina</td>\n",
       "      <td>female</td>\n",
       "      <td>26.0</td>\n",
       "      <td>0</td>\n",
       "      <td>0</td>\n",
       "      <td>STON/O2. 3101282</td>\n",
       "      <td>7.9250</td>\n",
       "      <td>NaN</td>\n",
       "      <td>S</td>\n",
       "    </tr>\n",
       "    <tr>\n",
       "      <td>3</td>\n",
       "      <td>4</td>\n",
       "      <td>1</td>\n",
       "      <td>1</td>\n",
       "      <td>Futrelle, Mrs. Jacques Heath (Lily May Peel)</td>\n",
       "      <td>female</td>\n",
       "      <td>35.0</td>\n",
       "      <td>1</td>\n",
       "      <td>0</td>\n",
       "      <td>113803</td>\n",
       "      <td>53.1000</td>\n",
       "      <td>C123</td>\n",
       "      <td>S</td>\n",
       "    </tr>\n",
       "    <tr>\n",
       "      <td>4</td>\n",
       "      <td>5</td>\n",
       "      <td>0</td>\n",
       "      <td>3</td>\n",
       "      <td>Allen, Mr. William Henry</td>\n",
       "      <td>male</td>\n",
       "      <td>35.0</td>\n",
       "      <td>0</td>\n",
       "      <td>0</td>\n",
       "      <td>373450</td>\n",
       "      <td>8.0500</td>\n",
       "      <td>NaN</td>\n",
       "      <td>S</td>\n",
       "    </tr>\n",
       "    <tr>\n",
       "      <td>...</td>\n",
       "      <td>...</td>\n",
       "      <td>...</td>\n",
       "      <td>...</td>\n",
       "      <td>...</td>\n",
       "      <td>...</td>\n",
       "      <td>...</td>\n",
       "      <td>...</td>\n",
       "      <td>...</td>\n",
       "      <td>...</td>\n",
       "      <td>...</td>\n",
       "      <td>...</td>\n",
       "      <td>...</td>\n",
       "    </tr>\n",
       "    <tr>\n",
       "      <td>886</td>\n",
       "      <td>887</td>\n",
       "      <td>0</td>\n",
       "      <td>2</td>\n",
       "      <td>Montvila, Rev. Juozas</td>\n",
       "      <td>male</td>\n",
       "      <td>27.0</td>\n",
       "      <td>0</td>\n",
       "      <td>0</td>\n",
       "      <td>211536</td>\n",
       "      <td>13.0000</td>\n",
       "      <td>NaN</td>\n",
       "      <td>S</td>\n",
       "    </tr>\n",
       "    <tr>\n",
       "      <td>887</td>\n",
       "      <td>888</td>\n",
       "      <td>1</td>\n",
       "      <td>1</td>\n",
       "      <td>Graham, Miss. Margaret Edith</td>\n",
       "      <td>female</td>\n",
       "      <td>19.0</td>\n",
       "      <td>0</td>\n",
       "      <td>0</td>\n",
       "      <td>112053</td>\n",
       "      <td>30.0000</td>\n",
       "      <td>B42</td>\n",
       "      <td>S</td>\n",
       "    </tr>\n",
       "    <tr>\n",
       "      <td>888</td>\n",
       "      <td>889</td>\n",
       "      <td>0</td>\n",
       "      <td>3</td>\n",
       "      <td>Johnston, Miss. Catherine Helen \"Carrie\"</td>\n",
       "      <td>female</td>\n",
       "      <td>NaN</td>\n",
       "      <td>1</td>\n",
       "      <td>2</td>\n",
       "      <td>W./C. 6607</td>\n",
       "      <td>23.4500</td>\n",
       "      <td>NaN</td>\n",
       "      <td>S</td>\n",
       "    </tr>\n",
       "    <tr>\n",
       "      <td>889</td>\n",
       "      <td>890</td>\n",
       "      <td>1</td>\n",
       "      <td>1</td>\n",
       "      <td>Behr, Mr. Karl Howell</td>\n",
       "      <td>male</td>\n",
       "      <td>26.0</td>\n",
       "      <td>0</td>\n",
       "      <td>0</td>\n",
       "      <td>111369</td>\n",
       "      <td>30.0000</td>\n",
       "      <td>C148</td>\n",
       "      <td>C</td>\n",
       "    </tr>\n",
       "    <tr>\n",
       "      <td>890</td>\n",
       "      <td>891</td>\n",
       "      <td>0</td>\n",
       "      <td>3</td>\n",
       "      <td>Dooley, Mr. Patrick</td>\n",
       "      <td>male</td>\n",
       "      <td>32.0</td>\n",
       "      <td>0</td>\n",
       "      <td>0</td>\n",
       "      <td>370376</td>\n",
       "      <td>7.7500</td>\n",
       "      <td>NaN</td>\n",
       "      <td>Q</td>\n",
       "    </tr>\n",
       "  </tbody>\n",
       "</table>\n",
       "<p>891 rows × 12 columns</p>\n",
       "</div>"
      ],
      "text/plain": [
       "     PassengerId  Survived  Pclass  \\\n",
       "0              1         0       3   \n",
       "1              2         1       1   \n",
       "2              3         1       3   \n",
       "3              4         1       1   \n",
       "4              5         0       3   \n",
       "..           ...       ...     ...   \n",
       "886          887         0       2   \n",
       "887          888         1       1   \n",
       "888          889         0       3   \n",
       "889          890         1       1   \n",
       "890          891         0       3   \n",
       "\n",
       "                                                  Name     Sex   Age  SibSp  \\\n",
       "0                              Braund, Mr. Owen Harris    male  22.0      1   \n",
       "1    Cumings, Mrs. John Bradley (Florence Briggs Th...  female  38.0      1   \n",
       "2                               Heikkinen, Miss. Laina  female  26.0      0   \n",
       "3         Futrelle, Mrs. Jacques Heath (Lily May Peel)  female  35.0      1   \n",
       "4                             Allen, Mr. William Henry    male  35.0      0   \n",
       "..                                                 ...     ...   ...    ...   \n",
       "886                              Montvila, Rev. Juozas    male  27.0      0   \n",
       "887                       Graham, Miss. Margaret Edith  female  19.0      0   \n",
       "888           Johnston, Miss. Catherine Helen \"Carrie\"  female   NaN      1   \n",
       "889                              Behr, Mr. Karl Howell    male  26.0      0   \n",
       "890                                Dooley, Mr. Patrick    male  32.0      0   \n",
       "\n",
       "     Parch            Ticket     Fare Cabin Embarked  \n",
       "0        0         A/5 21171   7.2500   NaN        S  \n",
       "1        0          PC 17599  71.2833   C85        C  \n",
       "2        0  STON/O2. 3101282   7.9250   NaN        S  \n",
       "3        0            113803  53.1000  C123        S  \n",
       "4        0            373450   8.0500   NaN        S  \n",
       "..     ...               ...      ...   ...      ...  \n",
       "886      0            211536  13.0000   NaN        S  \n",
       "887      0            112053  30.0000   B42        S  \n",
       "888      2        W./C. 6607  23.4500   NaN        S  \n",
       "889      0            111369  30.0000  C148        C  \n",
       "890      0            370376   7.7500   NaN        Q  \n",
       "\n",
       "[891 rows x 12 columns]"
      ]
     },
     "execution_count": 341,
     "metadata": {},
     "output_type": "execute_result"
    }
   ],
   "source": [
    "train_data"
   ]
  },
  {
   "cell_type": "code",
   "execution_count": 342,
   "metadata": {
    "ExecuteTime": {
     "end_time": "2020-10-27T15:25:07.326564Z",
     "start_time": "2020-10-27T15:25:07.320159Z"
    }
   },
   "outputs": [],
   "source": [
    "et = extract_titles(status=True)\n",
    "train_data_titles = et.fit_transform(train_data)"
   ]
  },
  {
   "cell_type": "code",
   "execution_count": 373,
   "metadata": {
    "ExecuteTime": {
     "end_time": "2020-10-27T16:47:06.926429Z",
     "start_time": "2020-10-27T16:47:06.607627Z"
    }
   },
   "outputs": [
    {
     "data": {
      "image/png": "[encoded data removed]",
      "text/plain": [
       "<Figure size 1440x720 with 1 Axes>"
      ]
     },
     "metadata": {},
     "output_type": "display_data"
    }
   ],
   "source": [
    "sns.set(rc={'figure.figsize': (20, 10)})\n",
    "sns.countplot(data=train_data_titles, x=\"Title\", hue=\"Survived\")\n",
    "plt.show()"
   ]
  },
  {
   "cell_type": "markdown",
   "metadata": {},
   "source": [
    "Interesting insight:\n",
    "- Grown men had a very low chance of surviving\n",
    "- Women had a good chance of surviving\n",
    "- Boys and young men had a pretty good chance of surviving (over 50%)"
   ]
  },
  {
   "cell_type": "markdown",
   "metadata": {},
   "source": [
    "### Combining SibSp and Parch"
   ]
  },
  {
   "cell_type": "code",
   "execution_count": 354,
   "metadata": {
    "ExecuteTime": {
     "end_time": "2020-10-27T16:26:47.404426Z",
     "start_time": "2020-10-27T16:26:47.381137Z"
    }
   },
   "outputs": [
    {
     "data": {
      "text/html": [
       "<div>\n",
       "<style scoped>\n",
       "    .dataframe tbody tr th:only-of-type {\n",
       "        vertical-align: middle;\n",
       "    }\n",
       "\n",
       "    .dataframe tbody tr th {\n",
       "        vertical-align: top;\n",
       "    }\n",
       "\n",
       "    .dataframe thead th {\n",
       "        text-align: right;\n",
       "    }\n",
       "</style>\n",
       "<table border=\"1\" class=\"dataframe\">\n",
       "  <thead>\n",
       "    <tr style=\"text-align: right;\">\n",
       "      <th></th>\n",
       "      <th>PassengerId</th>\n",
       "      <th>Survived</th>\n",
       "      <th>Pclass</th>\n",
       "      <th>Name</th>\n",
       "      <th>Sex</th>\n",
       "      <th>Age</th>\n",
       "      <th>SibSp</th>\n",
       "      <th>Parch</th>\n",
       "      <th>Ticket</th>\n",
       "      <th>Fare</th>\n",
       "      <th>Cabin</th>\n",
       "      <th>Embarked</th>\n",
       "    </tr>\n",
       "  </thead>\n",
       "  <tbody>\n",
       "    <tr>\n",
       "      <td>0</td>\n",
       "      <td>1</td>\n",
       "      <td>0</td>\n",
       "      <td>3</td>\n",
       "      <td>Braund, Mr. Owen Harris</td>\n",
       "      <td>male</td>\n",
       "      <td>22.0</td>\n",
       "      <td>1</td>\n",
       "      <td>0</td>\n",
       "      <td>A/5 21171</td>\n",
       "      <td>7.2500</td>\n",
       "      <td>NaN</td>\n",
       "      <td>S</td>\n",
       "    </tr>\n",
       "    <tr>\n",
       "      <td>1</td>\n",
       "      <td>2</td>\n",
       "      <td>1</td>\n",
       "      <td>1</td>\n",
       "      <td>Cumings, Mrs. John Bradley (Florence Briggs Th...</td>\n",
       "      <td>female</td>\n",
       "      <td>38.0</td>\n",
       "      <td>1</td>\n",
       "      <td>0</td>\n",
       "      <td>PC 17599</td>\n",
       "      <td>71.2833</td>\n",
       "      <td>C85</td>\n",
       "      <td>C</td>\n",
       "    </tr>\n",
       "    <tr>\n",
       "      <td>2</td>\n",
       "      <td>3</td>\n",
       "      <td>1</td>\n",
       "      <td>3</td>\n",
       "      <td>Heikkinen, Miss. Laina</td>\n",
       "      <td>female</td>\n",
       "      <td>26.0</td>\n",
       "      <td>0</td>\n",
       "      <td>0</td>\n",
       "      <td>STON/O2. 3101282</td>\n",
       "      <td>7.9250</td>\n",
       "      <td>NaN</td>\n",
       "      <td>S</td>\n",
       "    </tr>\n",
       "    <tr>\n",
       "      <td>3</td>\n",
       "      <td>4</td>\n",
       "      <td>1</td>\n",
       "      <td>1</td>\n",
       "      <td>Futrelle, Mrs. Jacques Heath (Lily May Peel)</td>\n",
       "      <td>female</td>\n",
       "      <td>35.0</td>\n",
       "      <td>1</td>\n",
       "      <td>0</td>\n",
       "      <td>113803</td>\n",
       "      <td>53.1000</td>\n",
       "      <td>C123</td>\n",
       "      <td>S</td>\n",
       "    </tr>\n",
       "    <tr>\n",
       "      <td>4</td>\n",
       "      <td>5</td>\n",
       "      <td>0</td>\n",
       "      <td>3</td>\n",
       "      <td>Allen, Mr. William Henry</td>\n",
       "      <td>male</td>\n",
       "      <td>35.0</td>\n",
       "      <td>0</td>\n",
       "      <td>0</td>\n",
       "      <td>373450</td>\n",
       "      <td>8.0500</td>\n",
       "      <td>NaN</td>\n",
       "      <td>S</td>\n",
       "    </tr>\n",
       "  </tbody>\n",
       "</table>\n",
       "</div>"
      ],
      "text/plain": [
       "   PassengerId  Survived  Pclass  \\\n",
       "0            1         0       3   \n",
       "1            2         1       1   \n",
       "2            3         1       3   \n",
       "3            4         1       1   \n",
       "4            5         0       3   \n",
       "\n",
       "                                                Name     Sex   Age  SibSp  \\\n",
       "0                            Braund, Mr. Owen Harris    male  22.0      1   \n",
       "1  Cumings, Mrs. John Bradley (Florence Briggs Th...  female  38.0      1   \n",
       "2                             Heikkinen, Miss. Laina  female  26.0      0   \n",
       "3       Futrelle, Mrs. Jacques Heath (Lily May Peel)  female  35.0      1   \n",
       "4                           Allen, Mr. William Henry    male  35.0      0   \n",
       "\n",
       "   Parch            Ticket     Fare Cabin Embarked  \n",
       "0      0         A/5 21171   7.2500   NaN        S  \n",
       "1      0          PC 17599  71.2833   C85        C  \n",
       "2      0  STON/O2. 3101282   7.9250   NaN        S  \n",
       "3      0            113803  53.1000  C123        S  \n",
       "4      0            373450   8.0500   NaN        S  "
      ]
     },
     "execution_count": 354,
     "metadata": {},
     "output_type": "execute_result"
    }
   ],
   "source": [
    "train_data.head()"
   ]
  },
  {
   "cell_type": "code",
   "execution_count": 357,
   "metadata": {
    "ExecuteTime": {
     "end_time": "2020-10-27T16:28:07.093895Z",
     "start_time": "2020-10-27T16:28:06.455092Z"
    },
    "scrolled": true
   },
   "outputs": [
    {
     "data": {
      "image/png": "[encoded data removed]",
      "text/plain": [
       "<Figure size 1440x720 with 1 Axes>"
      ]
     },
     "metadata": {},
     "output_type": "display_data"
    },
    {
     "data": {
      "image/png": "[encoded data removed]",
      "text/plain": [
       "<Figure size 1440x720 with 1 Axes>"
      ]
     },
     "metadata": {},
     "output_type": "display_data"
    }
   ],
   "source": [
    "sns.set(rc={'figure.figsize': (20, 10)})\n",
    "sns.countplot(data=train_data, x=\"SibSp\", hue=\"Survived\")\n",
    "plt.show()\n",
    "sns.countplot(data=train_data, x=\"Parch\", hue=\"Survived\",)\n",
    "plt.show()"
   ]
  },
  {
   "cell_type": "code",
   "execution_count": 371,
   "metadata": {
    "ExecuteTime": {
     "end_time": "2020-10-27T16:42:50.334847Z",
     "start_time": "2020-10-27T16:42:50.327954Z"
    }
   },
   "outputs": [],
   "source": [
    "data = train_data.copy()"
   ]
  },
  {
   "cell_type": "code",
   "execution_count": 372,
   "metadata": {
    "ExecuteTime": {
     "end_time": "2020-10-27T16:43:07.901269Z",
     "start_time": "2020-10-27T16:43:07.513452Z"
    },
    "scrolled": false
   },
   "outputs": [
    {
     "data": {
      "image/png": "[encoded data removed]",
      "text/plain": [
       "<Figure size 1440x720 with 1 Axes>"
      ]
     },
     "metadata": {},
     "output_type": "display_data"
    }
   ],
   "source": [
    "data[\"Relatives\"] = data[\"Parch\"] + data[\"SibSp\"]\n",
    "sns.countplot(data=data, x=\"Relatives\", hue=\"Survived\",)\n",
    "plt.show()"
   ]
  },
  {
   "cell_type": "markdown",
   "metadata": {},
   "source": [
    "Interesting insight: \n",
    "- People who boarded without relatives had around 30% chance of surviving \n",
    "- People with 1 to 3 relatives had a higher chance of surviving than 50%\n",
    "- People with over 3 relatives had a very low chance of suurviving"
   ]
  },
  {
   "cell_type": "code",
   "execution_count": 374,
   "metadata": {
    "ExecuteTime": {
     "end_time": "2020-10-27T16:55:08.774303Z",
     "start_time": "2020-10-27T16:55:08.766724Z"
    }
   },
   "outputs": [],
   "source": [
    "class sum_relatives(BaseEstimator, TransformerMixin):\n",
    "    def __init__(self):\n",
    "        None\n",
    "    def fit(self, X, y=None):\n",
    "        return self\n",
    "    def transform(self, X):\n",
    "        X_new = X.copy()\n",
    "        X_new[\"Relatives\"] = X_new[\"Parch\"] + X_new[\"SibSp\"]\n",
    "        return X_new"
   ]
  },
  {
   "cell_type": "markdown",
   "metadata": {},
   "source": [
    "### Exploration of Cabin and Ticket Feature"
   ]
  },
  {
   "cell_type": "code",
   "execution_count": 377,
   "metadata": {
    "ExecuteTime": {
     "end_time": "2020-10-27T16:58:30.888419Z",
     "start_time": "2020-10-27T16:58:30.877279Z"
    }
   },
   "outputs": [
    {
     "data": {
      "text/plain": [
       "array([nan, 'C85', 'C123', 'E46', 'G6', 'C103', 'D56', 'A6',\n",
       "       'C23 C25 C27', 'B78', 'D33', 'B30', 'C52', 'B28', 'C83', 'F33',\n",
       "       'F G73', 'E31', 'A5', 'D10 D12', 'D26', 'C110', 'B58 B60', 'E101',\n",
       "       'F E69', 'D47', 'B86', 'F2', 'C2', 'E33', 'B19', 'A7', 'C49', 'F4',\n",
       "       'A32', 'B4', 'B80', 'A31', 'D36', 'D15', 'C93', 'C78', 'D35',\n",
       "       'C87', 'B77', 'E67', 'B94', 'C125', 'C99', 'C118', 'D7', 'A19',\n",
       "       'B49', 'D', 'C22 C26', 'C106', 'C65', 'E36', 'C54',\n",
       "       'B57 B59 B63 B66', 'C7', 'E34', 'C32', 'B18', 'C124', 'C91', 'E40',\n",
       "       'T', 'C128', 'D37', 'B35', 'E50', 'C82', 'B96 B98', 'E10', 'E44',\n",
       "       'A34', 'C104', 'C111', 'C92', 'E38', 'D21', 'E12', 'E63', 'A14',\n",
       "       'B37', 'C30', 'D20', 'B79', 'E25', 'D46', 'B73', 'C95', 'B38',\n",
       "       'B39', 'B22', 'C86', 'C70', 'A16', 'C101', 'C68', 'A10', 'E68',\n",
       "       'B41', 'A20', 'D19', 'D50', 'D9', 'A23', 'B50', 'A26', 'D48',\n",
       "       'E58', 'C126', 'B71', 'B51 B53 B55', 'D49', 'B5', 'B20', 'F G63',\n",
       "       'C62 C64', 'E24', 'C90', 'C45', 'E8', 'B101', 'D45', 'C46', 'D30',\n",
       "       'E121', 'D11', 'E77', 'F38', 'B3', 'D6', 'B82 B84', 'D17', 'A36',\n",
       "       'B102', 'B69', 'E49', 'C47', 'D28', 'E17', 'A24', 'C50', 'B42',\n",
       "       'C148'], dtype=object)"
      ]
     },
     "execution_count": 377,
     "metadata": {},
     "output_type": "execute_result"
    }
   ],
   "source": [
    "train_data[\"Cabin\"].unique()"
   ]
  },
  {
   "cell_type": "code",
   "execution_count": 405,
   "metadata": {
    "ExecuteTime": {
     "end_time": "2020-10-27T17:08:33.967440Z",
     "start_time": "2020-10-27T17:08:33.956354Z"
    }
   },
   "outputs": [],
   "source": [
    "train_data[\"Cabin_prefix\"] = train_data[\"Cabin\"].str.replace('\\d+', '')\n",
    "train_data[\"Cabin_prefix\"] = train_data[\"Cabin_prefix\"].str.split(' ').str[0]\n",
    "#train_data[\"Cabin_prefix\"].fillna(\"Missing\", inplace=True)"
   ]
  },
  {
   "cell_type": "code",
   "execution_count": 406,
   "metadata": {
    "ExecuteTime": {
     "end_time": "2020-10-27T17:08:34.720397Z",
     "start_time": "2020-10-27T17:08:34.711700Z"
    }
   },
   "outputs": [
    {
     "data": {
      "text/plain": [
       "array([nan, 'C', 'E', 'G', 'D', 'A', 'B', 'F', 'T'], dtype=object)"
      ]
     },
     "execution_count": 406,
     "metadata": {},
     "output_type": "execute_result"
    }
   ],
   "source": [
    "train_data[\"Cabin_prefix\"].unique()"
   ]
  },
  {
   "cell_type": "code",
   "execution_count": 407,
   "metadata": {
    "ExecuteTime": {
     "end_time": "2020-10-27T17:08:35.681785Z",
     "start_time": "2020-10-27T17:08:35.360582Z"
    },
    "scrolled": false
   },
   "outputs": [
    {
     "data": {
      "image/png": "[encoded data removed]",
      "text/plain": [
       "<Figure size 1440x720 with 1 Axes>"
      ]
     },
     "metadata": {},
     "output_type": "display_data"
    }
   ],
   "source": [
    "sns.countplot(data=train_data, x=\"Cabin_prefix\", hue=\"Survived\",)\n",
    "plt.legend(fontsize=\"x-large\")\n",
    "plt.show()"
   ]
  },
  {
   "cell_type": "markdown",
   "metadata": {},
   "source": [
    "Fill NA cabins in a logical way?"
   ]
  },
  {
   "cell_type": "code",
   "execution_count": null,
   "metadata": {},
   "outputs": [],
   "source": []
  },
  {
   "cell_type": "code",
   "execution_count": null,
   "metadata": {},
   "outputs": [],
   "source": []
  },
  {
   "cell_type": "code",
   "execution_count": null,
   "metadata": {},
   "outputs": [],
   "source": []
  },
  {
   "cell_type": "code",
   "execution_count": 375,
   "metadata": {
    "ExecuteTime": {
     "end_time": "2020-10-27T16:56:52.040868Z",
     "start_time": "2020-10-27T16:56:52.034323Z"
    }
   },
   "outputs": [],
   "source": [
    "# Added transformers\n",
    "feature_engineering = Pipeline([\n",
    "        (\"extract_titles\", extract_titles),\n",
    "        (\"sum_relatives\", sum_relatives)\n",
    "    ])"
   ]
  },
  {
   "cell_type": "code",
   "execution_count": 253,
   "metadata": {
    "ExecuteTime": {
     "end_time": "2020-10-27T15:04:31.944191Z",
     "start_time": "2020-10-27T15:04:31.932175Z"
    }
   },
   "outputs": [],
   "source": [
    "num_pipeline_improved = Pipeline([\n",
    "        (\"select_numeric\", DataFrameSelector([\"Age\", \"SibSp\", \"Parch\", \"Fare\", \"Relatives\"])),\n",
    "        (\"imputer\", SimpleImputer(strategy=\"median\")),\n",
    "        (\"scaler\", StandardScaler())\n",
    "    ])"
   ]
  },
  {
   "cell_type": "code",
   "execution_count": 254,
   "metadata": {
    "ExecuteTime": {
     "end_time": "2020-10-27T15:04:32.830072Z",
     "start_time": "2020-10-27T15:04:32.822715Z"
    }
   },
   "outputs": [],
   "source": [
    "cat_pipeline_improved = Pipeline([\n",
    "        (\"select_cat\", DataFrameSelector([\"Sex\", \"Embarked\", \"Pclass\", \"Title\"])),\n",
    "        (\"imputer\", MostFrequentImputer()),\n",
    "        (\"onehot\", OneHot())\n",
    "    ])"
   ]
  },
  {
   "cell_type": "code",
   "execution_count": 255,
   "metadata": {
    "ExecuteTime": {
     "end_time": "2020-10-27T15:04:37.241983Z",
     "start_time": "2020-10-27T15:04:37.236454Z"
    }
   },
   "outputs": [],
   "source": [
    "preprocess_pipeline_improved = FeatureUnion(transformer_list=[\n",
    "        (\"num_pipeline\", num_pipeline_improved),\n",
    "        (\"cat_pipeline\", cat_pipeline_improved)\n",
    "    ])"
   ]
  },
  {
   "cell_type": "code",
   "execution_count": 260,
   "metadata": {
    "ExecuteTime": {
     "end_time": "2020-10-27T15:05:59.813487Z",
     "start_time": "2020-10-27T15:05:59.805999Z"
    }
   },
   "outputs": [],
   "source": [
    "# Full Pipeline\n",
    "prepare_predict_pipeline_improved = Pipeline([\n",
    "    (\"feature_engineer\", extract_titles),\n",
    "    (\"prepare\", preprocess_pipeline_improved)\n",
    "    ]) "
   ]
  },
  {
   "cell_type": "code",
   "execution_count": null,
   "metadata": {},
   "outputs": [],
   "source": []
  }
 ],
 "metadata": {
  "kernelspec": {
   "display_name": "Python 3",
   "language": "python",
   "name": "python3"
  },
  "language_info": {
   "codemirror_mode": {
    "name": "ipython",
    "version": 3
   },
   "file_extension": ".py",
   "mimetype": "text/x-python",
   "name": "python",
   "nbconvert_exporter": "python",
   "pygments_lexer": "ipython3",
   "version": "3.7.4"
  },
  "toc": {
   "base_numbering": 1,
   "nav_menu": {},
   "number_sections": false,
   "sideBar": true,
   "skip_h1_title": false,
   "title_cell": "Table of Contents",
   "title_sidebar": "Contents",
   "toc_cell": false,
   "toc_position": {},
   "toc_section_display": true,
   "toc_window_display": false
  },
  "varInspector": {
   "cols": {
    "lenName": 16,
    "lenType": 16,
    "lenVar": 40
   },
   "kernels_config": {
    "python": {
     "delete_cmd_postfix": "",
     "delete_cmd_prefix": "del ",
     "library": "var_list.py",
     "varRefreshCmd": "print(var_dic_list())"
    },
    "r": {
     "delete_cmd_postfix": ") ",
     "delete_cmd_prefix": "rm(",
     "library": "var_list.r",
     "varRefreshCmd": "cat(var_dic_list()) "
    }
   },
   "types_to_exclude": [
    "module",
    "function",
    "builtin_function_or_method",
    "instance",
    "_Feature"
   ],
   "window_display": false
  }
 },
 "nbformat": 4,
 "nbformat_minor": 2
}
